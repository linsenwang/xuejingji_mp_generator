{
 "cells": [
  {
   "cell_type": "code",
   "execution_count": 1,
   "metadata": {},
   "outputs": [],
   "source": [
    "import requests\n",
    "from bs4 import BeautifulSoup\n",
    "import re\n",
    "import time\n",
    "import gen_css\n",
    "import add_current"
   ]
  },
  {
   "cell_type": "code",
   "execution_count": 2,
   "metadata": {},
   "outputs": [],
   "source": [
    "ori_data = requests.get('https://www.econometricsociety.org/publications/econometrica')"
   ]
  },
  {
   "cell_type": "code",
   "execution_count": 3,
   "metadata": {},
   "outputs": [],
   "source": [
    "data = BeautifulSoup(ori_data.text, 'html.parser')"
   ]
  },
  {
   "cell_type": "code",
   "execution_count": 4,
   "metadata": {},
   "outputs": [],
   "source": [
    "current = data.find(string=re.compile('Latest Issue'))\n",
    "issue = current[14:]"
   ]
  },
  {
   "cell_type": "code",
   "execution_count": 10,
   "metadata": {},
   "outputs": [],
   "source": [
    "add_current.add(issue, time.ctime(), 'ecma/ecma_' + issue + '.html')"
   ]
  },
  {
   "cell_type": "code",
   "execution_count": 6,
   "metadata": {},
   "outputs": [],
   "source": [
    "article = data.find_all(class_='article')"
   ]
  },
  {
   "cell_type": "code",
   "execution_count": 7,
   "metadata": {},
   "outputs": [],
   "source": [
    "title = []\n",
    "authors = []\n",
    "ab_links = []\n",
    "for i in article:\n",
    "    title.append(i.contents[1].text)\n",
    "    authors.append(i.contents[3])\n",
    "    try:\n",
    "        ab_links.append(i.find(string=re.compile('Abstract')).parent.get('href'))\n",
    "    except:\n",
    "        ab_links.append('no_ab')"
   ]
  },
  {
   "cell_type": "code",
   "execution_count": 8,
   "metadata": {},
   "outputs": [],
   "source": [
    "author = []\n",
    "for i in authors:\n",
    "    for child in i.children:\n",
    "        if child.name is None:\n",
    "            author.append(child)\n",
    "        elif child.name == 'br':\n",
    "            pass"
   ]
  },
  {
   "cell_type": "code",
   "execution_count": 9,
   "metadata": {},
   "outputs": [],
   "source": [
    "abstract = []\n",
    "for ab_link in ab_links:\n",
    "    if ab_link == 'no_ab':\n",
    "        abstract.append('no_ab')\n",
    "    else:\n",
    "        try:\n",
    "            abstract_page = requests.get('https://www.econometricsociety.org' + ab_link)\n",
    "            ab_data = BeautifulSoup(abstract_page.text, 'html.parser')\n",
    "            abstract.append(ab_data.find(class_='abstract').text)\n",
    "        except:\n",
    "            abstract.append('error')"
   ]
  },
  {
   "cell_type": "code",
   "execution_count": null,
   "metadata": {},
   "outputs": [],
   "source": [
    "articles = [*zip(title, author, abstract)]"
   ]
  },
  {
   "cell_type": "code",
   "execution_count": null,
   "metadata": {},
   "outputs": [],
   "source": [
    "with open('ecma/ecma_' + issue + '.html','w',encoding='UTF-8') as f:\n",
    "    f.write(gen_css.gen_content_from_list(title))\n",
    "    f.write(gen_css.gen_abstract_list(list(articles)))"
   ]
  }
 ],
 "metadata": {
  "kernelspec": {
   "display_name": "Python 3",
   "language": "python",
   "name": "python3"
  },
  "language_info": {
   "codemirror_mode": {
    "name": "ipython",
    "version": 3
   },
   "file_extension": ".py",
   "mimetype": "text/x-python",
   "name": "python",
   "nbconvert_exporter": "python",
   "pygments_lexer": "ipython3",
   "version": "3.12.3"
  }
 },
 "nbformat": 4,
 "nbformat_minor": 2
}
