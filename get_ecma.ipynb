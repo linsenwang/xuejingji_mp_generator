{
 "cells": [
  {
   "cell_type": "code",
   "execution_count": 1,
   "metadata": {},
   "outputs": [],
   "source": [
    "import requests\n",
    "from bs4 import BeautifulSoup\n",
    "import re\n",
    "import gen_css"
   ]
  },
  {
   "cell_type": "code",
   "execution_count": 2,
   "metadata": {},
   "outputs": [],
   "source": [
    "ori_data = requests.get('https://www.econometricsociety.org/publications/econometrica')"
   ]
  },
  {
   "cell_type": "code",
   "execution_count": 3,
   "metadata": {},
   "outputs": [],
   "source": [
    "data = BeautifulSoup(ori_data.text, 'html.parser')"
   ]
  },
  {
   "cell_type": "code",
   "execution_count": 4,
   "metadata": {},
   "outputs": [],
   "source": [
    "current = data.find(string=re.compile('Latest Issue'))\n",
    "issue = current[14:]"
   ]
  },
  {
   "cell_type": "code",
   "execution_count": 5,
   "metadata": {},
   "outputs": [],
   "source": [
    "article = data.find_all(class_='article')"
   ]
  },
  {
   "cell_type": "code",
   "execution_count": 6,
   "metadata": {},
   "outputs": [],
   "source": [
    "title = []\n",
    "authors = []\n",
    "ab_links = []\n",
    "for i in article:\n",
    "    title.append(i.contents[1].text)\n",
    "    authors.append(i.contents[3])\n",
    "    try:\n",
    "        ab_links.append(i.find(string=re.compile('Abstract')).parent.get('href'))\n",
    "    except:\n",
    "        ab_links.append('no_ab')"
   ]
  },
  {
   "cell_type": "code",
   "execution_count": 7,
   "metadata": {},
   "outputs": [],
   "source": [
    "author = []\n",
    "for i in authors:\n",
    "    for child in i.children:\n",
    "        if child.name is None:\n",
    "            author.append(child)\n",
    "        elif child.name == 'br':\n",
    "            pass"
   ]
  },
  {
   "cell_type": "code",
   "execution_count": 8,
   "metadata": {},
   "outputs": [],
   "source": [
    "abstract = []\n",
    "for ab_link in ab_links:\n",
    "    if ab_link == 'no_ab':\n",
    "        abstract.append('no_ab')\n",
    "    else:\n",
    "        try:\n",
    "            abstract_page = requests.get('https://www.econometricsociety.org' + ab_link)\n",
    "            ab_data = BeautifulSoup(abstract_page.text, 'html.parser')\n",
    "            abstract.append(ab_data.find(class_='abstract').text)\n",
    "        except:\n",
    "            abstract.append('error')"
   ]
  },
  {
   "cell_type": "code",
   "execution_count": 9,
   "metadata": {},
   "outputs": [],
   "source": [
    "articles = [*zip(title, author, abstract)]"
   ]
  },
  {
   "cell_type": "code",
   "execution_count": 1,
   "metadata": {},
   "outputs": [
    {
     "ename": "NameError",
     "evalue": "name 'issue' is not defined",
     "output_type": "error",
     "traceback": [
      "\u001b[0;31m---------------------------------------------------------------------------\u001b[0m",
      "\u001b[0;31mNameError\u001b[0m                                 Traceback (most recent call last)",
      "Cell \u001b[0;32mIn[1], line 1\u001b[0m\n\u001b[0;32m----> 1\u001b[0m \u001b[38;5;28;01mwith\u001b[39;00m \u001b[38;5;28mopen\u001b[39m(\u001b[38;5;124m'\u001b[39m\u001b[38;5;124mecma/ecma_\u001b[39m\u001b[38;5;124m'\u001b[39m \u001b[38;5;241m+\u001b[39m \u001b[43missue\u001b[49m \u001b[38;5;241m+\u001b[39m \u001b[38;5;124m'\u001b[39m\u001b[38;5;124m.html\u001b[39m\u001b[38;5;124m'\u001b[39m,\u001b[38;5;124m'\u001b[39m\u001b[38;5;124mw\u001b[39m\u001b[38;5;124m'\u001b[39m,encoding\u001b[38;5;241m=\u001b[39m\u001b[38;5;124m'\u001b[39m\u001b[38;5;124mUTF-8\u001b[39m\u001b[38;5;124m'\u001b[39m) \u001b[38;5;28;01mas\u001b[39;00m f:\n\u001b[1;32m      2\u001b[0m     f\u001b[38;5;241m.\u001b[39mwrite(gen_css\u001b[38;5;241m.\u001b[39mgen_content_from_list(title))\n\u001b[1;32m      3\u001b[0m     f\u001b[38;5;241m.\u001b[39mwrite(gen_css\u001b[38;5;241m.\u001b[39mgen_abstract_list(\u001b[38;5;28mlist\u001b[39m(articles)))\n",
      "\u001b[0;31mNameError\u001b[0m: name 'issue' is not defined"
     ]
    }
   ],
   "source": [
    "with open('ecma/ecma_' + issue + '.html','w',encoding='UTF-8') as f:\n",
    "    f.write(gen_css.gen_content_from_list(title))\n",
    "    f.write(gen_css.gen_abstract_list(list(articles)))"
   ]
  }
 ],
 "metadata": {
  "kernelspec": {
   "display_name": "Python 3",
   "language": "python",
   "name": "python3"
  },
  "language_info": {
   "codemirror_mode": {
    "name": "ipython",
    "version": 3
   },
   "file_extension": ".py",
   "mimetype": "text/x-python",
   "name": "python",
   "nbconvert_exporter": "python",
   "pygments_lexer": "ipython3",
   "version": "3.12.3"
  }
 },
 "nbformat": 4,
 "nbformat_minor": 2
}
