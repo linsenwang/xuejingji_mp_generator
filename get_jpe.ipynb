{
 "cells": [
  {
   "cell_type": "code",
   "execution_count": 13,
   "metadata": {},
   "outputs": [],
   "source": [
    "from curl_cffi import requests\n",
    "from bs4 import BeautifulSoup\n",
    "import re\n",
    "import time\n",
    "import gen_css\n",
    "import add_current"
   ]
  },
  {
   "cell_type": "code",
   "execution_count": 14,
   "metadata": {},
   "outputs": [],
   "source": [
    "headers={\n",
    "    \"user-agent\":'Mozilla/5.0 (iPhone; CPU iPhone OS 13_2_3 like Mac OS X) AppleWebKit/605.1.15 (KHTML, like Gecko) Version/13.0.3 Mobile/15E148 Safari/604.1',\n",
    "}"
   ]
  },
  {
   "cell_type": "code",
   "execution_count": 24,
   "metadata": {},
   "outputs": [],
   "source": [
    "jpe_requests = requests.get('https://www.journals.uchicago.edu/toc/jpe/current', impersonate='chrome110', headers=headers)\n",
    "jpe_data = BeautifulSoup(jpe_requests.text, 'html.parser')"
   ]
  },
  {
   "cell_type": "code",
   "execution_count": 47,
   "metadata": {},
   "outputs": [
    {
     "data": {
      "text/plain": [
       "'Volume 132, Number 6'"
      ]
     },
     "execution_count": 47,
     "metadata": {},
     "output_type": "execute_result"
    }
   ],
   "source": [
    "issue = re.sub(' \\n', '',jpe_data.find(class_='citation-line').text)\n",
    "issue"
   ]
  },
  {
   "cell_type": "code",
   "execution_count": 34,
   "metadata": {},
   "outputs": [
    {
     "data": {
      "text/plain": [
       "['We investigate whether older people correctly perceive their cognitive decline and the potential financial consequences of misperception. First, we show that older people tend to underestimate their cognitive decline. We then show that those experiencing a severe decline but unaware of it are more likely to suffer wealth losses. These losses largely reflect decreases in financial wealth and are mainly experienced by wealthier people who were previously active on the stock market. Our findings support the view that financial losses among older people unaware of their cognitive decline are the result of bad financial decisions, not of rational disinvestment strategies.',\n",
       " 'Many scarce public resources are allocated at below-market-clearing prices and sometimes for free. Such “nonmarket” mechanisms sacrifice some surplus, yet they can potentially improve equity. We develop a model of mechanism design with redistributive concerns. Agents are characterized by a privately observed willingness to pay for quality, a publicly observed label, and a social welfare weight. A market designer controls allocation and pricing of a set of objects of heterogeneous quality and maximizes the expectation of a welfare function. The designer does not directly observe individuals’ social welfare weights. We derive structural insights about the form of the optimal mechanism, leading to a framework for determining how and when to use nonmarket mechanisms.',\n",
       " 'Most household production studies ignore unobserved inputs. Without additional assumptions, however, estimated impacts of the observed inputs cannot provide informative estimates of marginal products because of contaminating variations in unobserved inputs. Not even the signs of marginal impacts can be ascertained. One can establish the direction of these biases and significantly reduce them by including detailed information about nonproductive (pure consumption) goods in the analysis. Estimates from prior demand studies can also help determine the direction of the bias. We describe the stringent assumptions one must invoke in the absence of such additional information to be able to relate estimated effects to the true marginal products.',\n",
       " 'We perform a comprehensive neighborhood-level analysis of housing supply. Predictions of floor space and housing unit supply elasticities using our estimates average 0.5 and 0.3 across all urban neighborhoods in the United States, exhibiting greater variation within than between metro regions. New construction accounts for about 50% of unit supply responses, with important additional roles for teardowns and renovations. Supply responses grow with central business district distance mostly from the increasing availability of undeveloped land, flatter land, and less regulation. Identification comes from variation in labor demand shocks to commuting destinations, as aggregated using insights from a quantitative spatial equilibrium model.',\n",
       " 'This paper studies the social value of closing price differentials in financial markets. We show that arbitrage gaps exactly correspond to the marginal social value of executing an arbitrage trade. Moreover, arbitrage gaps and price impact measures are sufficient to compute the total social value from closing an arbitrage gap, which may emerge for different reasons, including nonpecuniary benefits of holding particular assets. Theoretically, we show that, for a given arbitrage gap, the total social value of arbitrage is higher in more liquid markets. We compute the welfare gains from closing arbitrage gaps for covered interest parity violations.',\n",
       " 'Job and wage mobility can arise from firms and workers learning about workers’ ability and from workers acquiring human capital with experience. To date, the relative importance of these two mechanisms is debated. Using administrative data from one firm, I estimate a structural model that integrates them. I find the direct effect of beliefs about ability on wages, which existing work has focused on, to be small. However, by improving the sorting of workers to the firm’s jobs, learning about ability is indirectly a crucial determinant of wage growth and dispersion.',\n",
       " 'We investigate how internal distribution motives can affect the implementation of an important macroeconomic policy: capital controls. To do this, we study one of history’s largest debt repatriations, which took place under strict capital controls in 1930s Germany, providing a wealth of quantitative and historical evidence. We show that the authorities kept private repatriations under strict control, thus avoiding detrimental macroeconomic effects, while allowing discretionary repatriations in order to reap internal political benefits. We formalize this mechanism in a model in which elite capture can affect optimal debt repatriations and the management of official reserves under capital controls.',\n",
       " 'We develop and estimate a model of supply and demand for childcare. On the demand side, households make consumption, labor supply, and childcare decisions. On the supply side, centers make entry, price, and quality decisions. In addition, both paid and informal caregivers are available. Child development is a function of the time spent with parents and nonparental care providers. We estimate the model using data from the Early Childhood Longitudinal Study, Birth Cohort, and perform policy experiments. Vouchers that can be used only in high-quality centers or by working mothers are particularly effective, since they deliver child development gains while increasing mothers’ labor supply.']"
      ]
     },
     "execution_count": 34,
     "metadata": {},
     "output_type": "execute_result"
    }
   ],
   "source": [
    "abstract = []\n",
    "abstract_ori = jpe_data.find_all(class_='accordion__content')\n",
    "for i in abstract_ori:\n",
    "    abstract.append(i.text)\n",
    "abstract"
   ]
  },
  {
   "cell_type": "code",
   "execution_count": 33,
   "metadata": {},
   "outputs": [
    {
     "data": {
      "text/plain": [
       "['Fabrizio Mazzonna and Franco Peracchi',\n",
       " 'Mohammad Akbarpour, Piotr Dworczak, and Scott Duke Kominers',\n",
       " 'Sergey Mityakov and Thomas A. Mroz',\n",
       " 'Nathaniel Baum-Snow and Lu Han',\n",
       " 'Eduardo Dávila, Daniel Graves, and Cecilia Parlatore',\n",
       " 'Elena Pastorino',\n",
       " 'Andrea Papadia and Claudio A. Schioppa',\n",
       " 'Samuel Berlinski, Maria Marta Ferreyra, Luca Flabbi, and Juan David Martin']"
      ]
     },
     "execution_count": 33,
     "metadata": {},
     "output_type": "execute_result"
    }
   ],
   "source": [
    "names = []\n",
    "name_ori = jpe_data.find_all(attrs={'aria-label': \"author\"})\n",
    "for i in name_ori:\n",
    "    names.append(re.sub('\\xa0', ' ' ,i.text))\n",
    "names"
   ]
  },
  {
   "cell_type": "code",
   "execution_count": 50,
   "metadata": {},
   "outputs": [],
   "source": [
    "title = []\n",
    "title_ori = jpe_data.find_all(class_='issue-item__title')\n",
    "for i in title_ori:\n",
    "    title.append(i.text)\n",
    "title = title[1:]"
   ]
  },
  {
   "cell_type": "code",
   "execution_count": 51,
   "metadata": {},
   "outputs": [
    {
     "data": {
      "text/plain": [
       "[('Are Older People Aware of Their Cognitive Decline? Misperception and Financial Decision-Making',\n",
       "  'Fabrizio Mazzonna and Franco Peracchi',\n",
       "  'We investigate whether older people correctly perceive their cognitive decline and the potential financial consequences of misperception. First, we show that older people tend to underestimate their cognitive decline. We then show that those experiencing a severe decline but unaware of it are more likely to suffer wealth losses. These losses largely reflect decreases in financial wealth and are mainly experienced by wealthier people who were previously active on the stock market. Our findings support the view that financial losses among older people unaware of their cognitive decline are the result of bad financial decisions, not of rational disinvestment strategies.'),\n",
       " ('Redistributive Allocation Mechanisms',\n",
       "  'Mohammad Akbarpour, Piotr Dworczak, and Scott Duke Kominers',\n",
       "  'Many scarce public resources are allocated at below-market-clearing prices and sometimes for free. Such “nonmarket” mechanisms sacrifice some surplus, yet they can potentially improve equity. We develop a model of mechanism design with redistributive concerns. Agents are characterized by a privately observed willingness to pay for quality, a publicly observed label, and a social welfare weight. A market designer controls allocation and pricing of a set of objects of heterogeneous quality and maximizes the expectation of a welfare function. The designer does not directly observe individuals’ social welfare weights. We derive structural insights about the form of the optimal mechanism, leading to a framework for determining how and when to use nonmarket mechanisms.'),\n",
       " ('Unobserved Inputs in Household Production',\n",
       "  'Sergey Mityakov and Thomas A. Mroz',\n",
       "  'Most household production studies ignore unobserved inputs. Without additional assumptions, however, estimated impacts of the observed inputs cannot provide informative estimates of marginal products because of contaminating variations in unobserved inputs. Not even the signs of marginal impacts can be ascertained. One can establish the direction of these biases and significantly reduce them by including detailed information about nonproductive (pure consumption) goods in the analysis. Estimates from prior demand studies can also help determine the direction of the bias. We describe the stringent assumptions one must invoke in the absence of such additional information to be able to relate estimated effects to the true marginal products.'),\n",
       " ('The Microgeography of Housing Supply',\n",
       "  'Nathaniel Baum-Snow and Lu Han',\n",
       "  'We perform a comprehensive neighborhood-level analysis of housing supply. Predictions of floor space and housing unit supply elasticities using our estimates average 0.5 and 0.3 across all urban neighborhoods in the United States, exhibiting greater variation within than between metro regions. New construction accounts for about 50% of unit supply responses, with important additional roles for teardowns and renovations. Supply responses grow with central business district distance mostly from the increasing availability of undeveloped land, flatter land, and less regulation. Identification comes from variation in labor demand shocks to commuting destinations, as aggregated using insights from a quantitative spatial equilibrium model.'),\n",
       " ('The Value of Arbitrage',\n",
       "  'Eduardo Dávila, Daniel Graves, and Cecilia Parlatore',\n",
       "  'This paper studies the social value of closing price differentials in financial markets. We show that arbitrage gaps exactly correspond to the marginal social value of executing an arbitrage trade. Moreover, arbitrage gaps and price impact measures are sufficient to compute the total social value from closing an arbitrage gap, which may emerge for different reasons, including nonpecuniary benefits of holding particular assets. Theoretically, we show that, for a given arbitrage gap, the total social value of arbitrage is higher in more liquid markets. We compute the welfare gains from closing arbitrage gaps for covered interest parity violations.'),\n",
       " ('Careers in Firms: The Role of Learning about Ability and Human Capital Acquisition',\n",
       "  'Elena Pastorino',\n",
       "  'Job and wage mobility can arise from firms and workers learning about workers’ ability and from workers acquiring human capital with experience. To date, the relative importance of these two mechanisms is debated. Using administrative data from one firm, I estimate a structural model that integrates them. I find the direct effect of beliefs about ability on wages, which existing work has focused on, to be small. However, by improving the sorting of workers to the firm’s jobs, learning about ability is indirectly a crucial determinant of wage growth and dispersion.'),\n",
       " ('Foreign Debt, Capital Controls, and Secondary Markets: Theory and Evidence from Nazi Germany',\n",
       "  'Andrea Papadia and Claudio A. Schioppa',\n",
       "  'We investigate how internal distribution motives can affect the implementation of an important macroeconomic policy: capital controls. To do this, we study one of history’s largest debt repatriations, which took place under strict capital controls in 1930s Germany, providing a wealth of quantitative and historical evidence. We show that the authorities kept private repatriations under strict control, thus avoiding detrimental macroeconomic effects, while allowing discretionary repatriations in order to reap internal political benefits. We formalize this mechanism in a model in which elite capture can affect optimal debt repatriations and the management of official reserves under capital controls.'),\n",
       " ('Childcare Markets, Parental Labor Supply, and Child Development',\n",
       "  'Samuel Berlinski, Maria Marta Ferreyra, Luca Flabbi, and Juan David Martin',\n",
       "  'We develop and estimate a model of supply and demand for childcare. On the demand side, households make consumption, labor supply, and childcare decisions. On the supply side, centers make entry, price, and quality decisions. In addition, both paid and informal caregivers are available. Child development is a function of the time spent with parents and nonparental care providers. We estimate the model using data from the Early Childhood Longitudinal Study, Birth Cohort, and perform policy experiments. Vouchers that can be used only in high-quality centers or by working mothers are particularly effective, since they deliver child development gains while increasing mothers’ labor supply.')]"
      ]
     },
     "execution_count": 51,
     "metadata": {},
     "output_type": "execute_result"
    }
   ],
   "source": [
    "article = [*zip(title, names, abstract)]\n",
    "article"
   ]
  },
  {
   "cell_type": "code",
   "execution_count": 52,
   "metadata": {},
   "outputs": [],
   "source": [
    "with open('jpe/JPE_' + issue + '.html','w',encoding='UTF-8') as f:\n",
    "    f.write(gen_css.gen_content_from_list(title))\n",
    "    f.write(gen_css.gen_abstract_list(list(article)))"
   ]
  },
  {
   "cell_type": "code",
   "execution_count": 53,
   "metadata": {},
   "outputs": [],
   "source": [
    "add_current.add('JPE_' + issue, time.ctime(), 'jpe/JPE_' + issue + '.html')"
   ]
  },
  {
   "cell_type": "code",
   "execution_count": null,
   "metadata": {},
   "outputs": [],
   "source": []
  }
 ],
 "metadata": {
  "kernelspec": {
   "display_name": "Python 3",
   "language": "python",
   "name": "python3"
  },
  "language_info": {
   "codemirror_mode": {
    "name": "ipython",
    "version": 3
   },
   "file_extension": ".py",
   "mimetype": "text/x-python",
   "name": "python",
   "nbconvert_exporter": "python",
   "pygments_lexer": "ipython3",
   "version": "3.12.3"
  }
 },
 "nbformat": 4,
 "nbformat_minor": 2
}
