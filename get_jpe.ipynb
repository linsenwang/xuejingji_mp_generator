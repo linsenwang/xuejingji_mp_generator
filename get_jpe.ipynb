{
 "cells": [
  {
   "cell_type": "code",
   "execution_count": 1,
   "metadata": {},
   "outputs": [],
   "source": [
    "from curl_cffi import requests\n",
    "from bs4 import BeautifulSoup\n",
    "import re\n",
    "import time\n",
    "import gen_css\n",
    "import add_current"
   ]
  },
  {
   "cell_type": "code",
   "execution_count": 2,
   "metadata": {},
   "outputs": [],
   "source": [
    "headers={\n",
    "    \"user-agent\":'Mozilla/5.0 (iPhone; CPU iPhone OS 13_2_3 like Mac OS X) AppleWebKit/605.1.15 (KHTML, like Gecko) Version/13.0.3 Mobile/15E148 Safari/604.1',\n",
    "}"
   ]
  },
  {
   "cell_type": "code",
   "execution_count": 3,
   "metadata": {},
   "outputs": [],
   "source": [
    "jpe_requests = requests.get('https://www.journals.uchicago.edu/toc/jpe/current', impersonate='chrome110', headers=headers)\n",
    "jpe_data = BeautifulSoup(jpe_requests.text, 'html.parser')"
   ]
  },
  {
   "cell_type": "code",
   "execution_count": 4,
   "metadata": {},
   "outputs": [
    {
     "data": {
      "text/plain": [
       "'Volume 132, Number 6'"
      ]
     },
     "execution_count": 4,
     "metadata": {},
     "output_type": "execute_result"
    }
   ],
   "source": [
    "issue = re.sub(' \\n', '',jpe_data.find(class_='citation-line').text)\n",
    "issue"
   ]
  },
  {
   "cell_type": "code",
   "execution_count": 5,
   "metadata": {},
   "outputs": [
    {
     "data": {
      "text/plain": [
       "['We investigate whether older people correctly perceive their cognitive decline and the potential financial consequences of misperception. First, we show that older people tend to underestimate their cognitive decline. We then show that those experiencing a severe decline but unaware of it are more likely to suffer wealth losses. These losses largely reflect decreases in financial wealth and are mainly experienced by wealthier people who were previously active on the stock market. Our findings support the view that financial losses among older people unaware of their cognitive decline are the result of bad financial decisions, not of rational disinvestment strategies.',\n",
       " 'Many scarce public resources are allocated at below-market-clearing prices and sometimes for free. Such “nonmarket” mechanisms sacrifice some surplus, yet they can potentially improve equity. We develop a model of mechanism design with redistributive concerns. Agents are characterized by a privately observed willingness to pay for quality, a publicly observed label, and a social welfare weight. A market designer controls allocation and pricing of a set of objects of heterogeneous quality and maximizes the expectation of a welfare function. The designer does not directly observe individuals’ social welfare weights. We derive structural insights about the form of the optimal mechanism, leading to a framework for determining how and when to use nonmarket mechanisms.',\n",
       " 'Most household production studies ignore unobserved inputs. Without additional assumptions, however, estimated impacts of the observed inputs cannot provide informative estimates of marginal products because of contaminating variations in unobserved inputs. Not even the signs of marginal impacts can be ascertained. One can establish the direction of these biases and significantly reduce them by including detailed information about nonproductive (pure consumption) goods in the analysis. Estimates from prior demand studies can also help determine the direction of the bias. We describe the stringent assumptions one must invoke in the absence of such additional information to be able to relate estimated effects to the true marginal products.',\n",
       " 'We perform a comprehensive neighborhood-level analysis of housing supply. Predictions of floor space and housing unit supply elasticities using our estimates average 0.5 and 0.3 across all urban neighborhoods in the United States, exhibiting greater variation within than between metro regions. New construction accounts for about 50% of unit supply responses, with important additional roles for teardowns and renovations. Supply responses grow with central business district distance mostly from the increasing availability of undeveloped land, flatter land, and less regulation. Identification comes from variation in labor demand shocks to commuting destinations, as aggregated using insights from a quantitative spatial equilibrium model.',\n",
       " 'This paper studies the social value of closing price differentials in financial markets. We show that arbitrage gaps exactly correspond to the marginal social value of executing an arbitrage trade. Moreover, arbitrage gaps and price impact measures are sufficient to compute the total social value from closing an arbitrage gap, which may emerge for different reasons, including nonpecuniary benefits of holding particular assets. Theoretically, we show that, for a given arbitrage gap, the total social value of arbitrage is higher in more liquid markets. We compute the welfare gains from closing arbitrage gaps for covered interest parity violations.',\n",
       " 'Job and wage mobility can arise from firms and workers learning about workers’ ability and from workers acquiring human capital with experience. To date, the relative importance of these two mechanisms is debated. Using administrative data from one firm, I estimate a structural model that integrates them. I find the direct effect of beliefs about ability on wages, which existing work has focused on, to be small. However, by improving the sorting of workers to the firm’s jobs, learning about ability is indirectly a crucial determinant of wage growth and dispersion.',\n",
       " 'We investigate how internal distribution motives can affect the implementation of an important macroeconomic policy: capital controls. To do this, we study one of history’s largest debt repatriations, which took place under strict capital controls in 1930s Germany, providing a wealth of quantitative and historical evidence. We show that the authorities kept private repatriations under strict control, thus avoiding detrimental macroeconomic effects, while allowing discretionary repatriations in order to reap internal political benefits. We formalize this mechanism in a model in which elite capture can affect optimal debt repatriations and the management of official reserves under capital controls.',\n",
       " 'We develop and estimate a model of supply and demand for childcare. On the demand side, households make consumption, labor supply, and childcare decisions. On the supply side, centers make entry, price, and quality decisions. In addition, both paid and informal caregivers are available. Child development is a function of the time spent with parents and nonparental care providers. We estimate the model using data from the Early Childhood Longitudinal Study, Birth Cohort, and perform policy experiments. Vouchers that can be used only in high-quality centers or by working mothers are particularly effective, since they deliver child development gains while increasing mothers’ labor supply.']"
      ]
     },
     "execution_count": 5,
     "metadata": {},
     "output_type": "execute_result"
    }
   ],
   "source": [
    "abstract = []\n",
    "abstract_ori = jpe_data.find_all(class_='accordion__content')\n",
    "for i in abstract_ori:\n",
    "    abstract.append(i.text)\n",
    "abstract"
   ]
  },
  {
   "cell_type": "code",
   "execution_count": 6,
   "metadata": {},
   "outputs": [
    {
     "data": {
      "text/plain": [
       "['Fabrizio Mazzonna and Franco Peracchi',\n",
       " 'Mohammad Akbarpour, Piotr Dworczak, and Scott Duke Kominers',\n",
       " 'Sergey Mityakov and Thomas A. Mroz',\n",
       " 'Nathaniel Baum-Snow and Lu Han',\n",
       " 'Eduardo Dávila, Daniel Graves, and Cecilia Parlatore',\n",
       " 'Elena Pastorino',\n",
       " 'Andrea Papadia and Claudio A. Schioppa',\n",
       " 'Samuel Berlinski, Maria Marta Ferreyra, Luca Flabbi, and Juan David Martin']"
      ]
     },
     "execution_count": 6,
     "metadata": {},
     "output_type": "execute_result"
    }
   ],
   "source": [
    "names = []\n",
    "name_ori = jpe_data.find_all(attrs={'aria-label': \"author\"})\n",
    "for i in name_ori:\n",
    "    names.append(re.sub('\\xa0', ' ' ,i.text))\n",
    "names"
   ]
  },
  {
   "cell_type": "code",
   "execution_count": 7,
   "metadata": {},
   "outputs": [],
   "source": [
    "title = []\n",
    "title_ori = jpe_data.find_all(class_='issue-item__title')\n",
    "for i in title_ori:\n",
    "    title.append(i.text)\n",
    "title = title[1:]"
   ]
  },
  {
   "cell_type": "code",
   "execution_count": 8,
   "metadata": {},
   "outputs": [
    {
     "data": {
      "text/plain": [
       "[('Are Older People Aware of Their Cognitive Decline? Misperception and Financial Decision-Making',\n",
       "  'Fabrizio Mazzonna and Franco Peracchi',\n",
       "  'We investigate whether older people correctly perceive their cognitive decline and the potential financial consequences of misperception. First, we show that older people tend to underestimate their cognitive decline. We then show that those experiencing a severe decline but unaware of it are more likely to suffer wealth losses. These losses largely reflect decreases in financial wealth and are mainly experienced by wealthier people who were previously active on the stock market. Our findings support the view that financial losses among older people unaware of their cognitive decline are the result of bad financial decisions, not of rational disinvestment strategies.'),\n",
       " ('Redistributive Allocation Mechanisms',\n",
       "  'Mohammad Akbarpour, Piotr Dworczak, and Scott Duke Kominers',\n",
       "  'Many scarce public resources are allocated at below-market-clearing prices and sometimes for free. Such “nonmarket” mechanisms sacrifice some surplus, yet they can potentially improve equity. We develop a model of mechanism design with redistributive concerns. Agents are characterized by a privately observed willingness to pay for quality, a publicly observed label, and a social welfare weight. A market designer controls allocation and pricing of a set of objects of heterogeneous quality and maximizes the expectation of a welfare function. The designer does not directly observe individuals’ social welfare weights. We derive structural insights about the form of the optimal mechanism, leading to a framework for determining how and when to use nonmarket mechanisms.'),\n",
       " ('Unobserved Inputs in Household Production',\n",
       "  'Sergey Mityakov and Thomas A. Mroz',\n",
       "  'Most household production studies ignore unobserved inputs. Without additional assumptions, however, estimated impacts of the observed inputs cannot provide informative estimates of marginal products because of contaminating variations in unobserved inputs. Not even the signs of marginal impacts can be ascertained. One can establish the direction of these biases and significantly reduce them by including detailed information about nonproductive (pure consumption) goods in the analysis. Estimates from prior demand studies can also help determine the direction of the bias. We describe the stringent assumptions one must invoke in the absence of such additional information to be able to relate estimated effects to the true marginal products.'),\n",
       " ('The Microgeography of Housing Supply',\n",
       "  'Nathaniel Baum-Snow and Lu Han',\n",
       "  'We perform a comprehensive neighborhood-level analysis of housing supply. Predictions of floor space and housing unit supply elasticities using our estimates average 0.5 and 0.3 across all urban neighborhoods in the United States, exhibiting greater variation within than between metro regions. New construction accounts for about 50% of unit supply responses, with important additional roles for teardowns and renovations. Supply responses grow with central business district distance mostly from the increasing availability of undeveloped land, flatter land, and less regulation. Identification comes from variation in labor demand shocks to commuting destinations, as aggregated using insights from a quantitative spatial equilibrium model.'),\n",
       " ('The Value of Arbitrage',\n",
       "  'Eduardo Dávila, Daniel Graves, and Cecilia Parlatore',\n",
       "  'This paper studies the social value of closing price differentials in financial markets. We show that arbitrage gaps exactly correspond to the marginal social value of executing an arbitrage trade. Moreover, arbitrage gaps and price impact measures are sufficient to compute the total social value from closing an arbitrage gap, which may emerge for different reasons, including nonpecuniary benefits of holding particular assets. Theoretically, we show that, for a given arbitrage gap, the total social value of arbitrage is higher in more liquid markets. We compute the welfare gains from closing arbitrage gaps for covered interest parity violations.'),\n",
       " ('Careers in Firms: The Role of Learning about Ability and Human Capital Acquisition',\n",
       "  'Elena Pastorino',\n",
       "  'Job and wage mobility can arise from firms and workers learning about workers’ ability and from workers acquiring human capital with experience. To date, the relative importance of these two mechanisms is debated. Using administrative data from one firm, I estimate a structural model that integrates them. I find the direct effect of beliefs about ability on wages, which existing work has focused on, to be small. However, by improving the sorting of workers to the firm’s jobs, learning about ability is indirectly a crucial determinant of wage growth and dispersion.'),\n",
       " ('Foreign Debt, Capital Controls, and Secondary Markets: Theory and Evidence from Nazi Germany',\n",
       "  'Andrea Papadia and Claudio A. Schioppa',\n",
       "  'We investigate how internal distribution motives can affect the implementation of an important macroeconomic policy: capital controls. To do this, we study one of history’s largest debt repatriations, which took place under strict capital controls in 1930s Germany, providing a wealth of quantitative and historical evidence. We show that the authorities kept private repatriations under strict control, thus avoiding detrimental macroeconomic effects, while allowing discretionary repatriations in order to reap internal political benefits. We formalize this mechanism in a model in which elite capture can affect optimal debt repatriations and the management of official reserves under capital controls.'),\n",
       " ('Childcare Markets, Parental Labor Supply, and Child Development',\n",
       "  'Samuel Berlinski, Maria Marta Ferreyra, Luca Flabbi, and Juan David Martin',\n",
       "  'We develop and estimate a model of supply and demand for childcare. On the demand side, households make consumption, labor supply, and childcare decisions. On the supply side, centers make entry, price, and quality decisions. In addition, both paid and informal caregivers are available. Child development is a function of the time spent with parents and nonparental care providers. We estimate the model using data from the Early Childhood Longitudinal Study, Birth Cohort, and perform policy experiments. Vouchers that can be used only in high-quality centers or by working mothers are particularly effective, since they deliver child development gains while increasing mothers’ labor supply.')]"
      ]
     },
     "execution_count": 8,
     "metadata": {},
     "output_type": "execute_result"
    }
   ],
   "source": [
    "article = [*zip(title, names, abstract)]\n",
    "article"
   ]
  },
  {
   "cell_type": "code",
   "execution_count": 9,
   "metadata": {},
   "outputs": [],
   "source": [
    "with open('jpe/JPE_' + issue + '.html','w',encoding='UTF-8') as f:\n",
    "    f.write(gen_css.gen_content_from_list(title))\n",
    "    f.write(gen_css.gen_abstract_list(list(article)))\n",
    "add_current.add('JPE_' + issue, time.ctime(), 'jpe/JPE_' + issue + '.html')"
   ]
  },
  {
   "cell_type": "code",
   "execution_count": 10,
   "metadata": {},
   "outputs": [
    {
     "data": {
      "text/plain": [
       "['老年人意识到他们的认知能力下降了吗？误解与财务决策',\n",
       " '再分配分配机制',\n",
       " '家庭生产中未观察到的投入',\n",
       " '住房供应的微观地理学',\n",
       " '套利的价值',\n",
       " '企业职业：能力学习与人力资本获取的作用',\n",
       " '外债、资本管制和二级市场：来自纳粹德国的理论和证据',\n",
       " '儿童保育市场、父母劳动力供应和儿童发展',\n",
       " 'JPE周转时间',\n",
       " '最近的裁判']"
      ]
     },
     "execution_count": 10,
     "metadata": {},
     "output_type": "execute_result"
    }
   ],
   "source": [
    "import BaiduTrans\n",
    "title_cn = []\n",
    "for i in title:\n",
    "    te = BaiduTrans.trans(i)\n",
    "    title_cn.append(te['trans_result'][0]['dst'])\n",
    "    #l_cn.append(te)\n",
    "    time.sleep(1)\n",
    "title_cn"
   ]
  },
  {
   "cell_type": "code",
   "execution_count": 11,
   "metadata": {},
   "outputs": [],
   "source": [
    "'''abstract_cn = []\n",
    "for i in abstract:\n",
    "    te = BaiduTrans.trans(i)\n",
    "    abstract_cn.append(te['trans_result'][0]['dst'])\n",
    "    #l_cn.append(te)\n",
    "    time.sleep(1)\n",
    "abstract_cn'''\n",
    "abstract_cn = BaiduTrans.trans_list(abstract)"
   ]
  },
  {
   "cell_type": "code",
   "execution_count": 12,
   "metadata": {},
   "outputs": [
    {
     "data": {
      "text/plain": [
       "[('老年人意识到他们的认知能力下降了吗？误解与财务决策',\n",
       "  'Fabrizio Mazzonna and Franco Peracchi',\n",
       "  '我们调查了老年人是否正确地感知了他们的认知能力下降以及误解的潜在经济后果。首先，我们发现老年人往往低估了他们的认知能力下降。然后我们发现，那些经历了严重衰退但没有意识到的人更有可能遭受财富损失。这些损失在很大程度上反映了金融财富的减少，主要是以前活跃在股市上的富人所经历的。我们的研究结果支持这样一种观点，即没有意识到自己认知能力下降的老年人的经济损失是糟糕的财务决策的结果，而不是理性的撤资策略。'),\n",
       " ('再分配分配机制',\n",
       "  'Mohammad Akbarpour, Piotr Dworczak, and Scott Duke Kominers',\n",
       "  '许多稀缺的公共资源是以低于市场结算价格分配的，有时是免费的。这种“非市场”机制牺牲了一些盈余，但它们有可能提高公平性。我们开发了一个具有再分配关注的机制设计模型。代理商的特点是私下观察到的为质量付费的意愿、公开观察到的标签和社会福利权重。市场设计者控制一组异质质量对象的分配和定价，并最大化福利函数的期望。设计者没有直接观察个人的社会福利权重。我们得出了关于最优机制形式的结构性见解，从而形成了一个确定如何以及何时使用非市场机制的框架。'),\n",
       " ('家庭生产中未观察到的投入',\n",
       "  'Sergey Mityakov and Thomas A. Mroz',\n",
       "  '大多数家庭生产研究忽略了未观察到的投入。然而，如果没有额外的假设，由于未观测到的投入的污染变化，观测到的输入的估计影响无法提供边际产品的信息估计。甚至连边际影响的迹象都无法确定。通过在分析中包括有关非生产性（纯消费）商品的详细信息，可以确定这些偏差的方向，并显著减少偏差。先前需求研究的估计也有助于确定偏差的方向。我们描述了在缺乏此类额外信息的情况下必须援引的严格假设，以便能够将估计的影响与真实的边际产品联系起来。'),\n",
       " ('住房供应的微观地理学',\n",
       "  'Nathaniel Baum-Snow and Lu Han',\n",
       "  '我们对住房供应进行了全面的邻里层面分析。使用我们的估计对美国所有城市社区的占地面积和住房单位供应弹性的预测平均为0.5和0.3，显示出城市内部比城市之间更大的变化。新建工程约占单位供应响应的50%，在拆除和翻新方面发挥着重要的额外作用。供应反应随着中央商务区的发展而增长，主要是与未开发土地、平坦土地和较少监管的日益增加相距甚远。识别来自通勤目的地劳动力需求冲击的变化，这是使用定量空间平衡模型的见解进行汇总的。'),\n",
       " ('套利的价值',\n",
       "  'Eduardo Dávila, Daniel Graves, and Cecilia Parlatore',\n",
       "  '本文研究了金融市场收盘价差的社会价值。我们证明了套利缺口恰好对应于执行套利交易的边际社会价值。此外，套利缺口和价格影响指标足以计算弥合套利缺口的总社会价值，套利缺口可能因不同原因出现，包括持有特定资产的非货币利益。理论上，我们表明，对于给定的套利缺口，在流动性更强的市场中，套利的总社会价值更高。我们计算了弥补利率平价违规的套利缺口所带来的福利收益。'),\n",
       " ('企业职业：能力学习与人力资本获取的作用',\n",
       "  'Elena Pastorino',\n",
       "  '工作和工资的流动性可能源于公司和工人对工人能力的了解，也可能源于工人获得有经验的人力资本。迄今为止，这两个机制的相对重要性一直存在争议。使用一家公司的管理数据，我估计了一个将它们整合在一起的结构模型。我发现现有工作所关注的关于能力的信念对工资的直接影响很小。然而，通过改进员工对公司工作的分类，了解能力间接成为工资增长和分散的关键决定因素。'),\n",
       " ('外债、资本管制和二级市场：来自纳粹德国的理论和证据',\n",
       "  'Andrea Papadia and Claudio A. Schioppa',\n",
       "  '我们研究了内部分配动机如何影响一项重要宏观经济政策的实施：资本控制。为了做到这一点，我们研究了20世纪30年代德国在严格的资本控制下发生的历史上最大的债务遣返之一，提供了丰富的数量和历史证据。我们表明，当局严格控制私人遣返，从而避免了不利的宏观经济影响，同时允许自由遣返，以获得内部政治利益。我们在一个模型中正式化了这一机制，在该模型中，精英捕获可以影响资本控制下的最佳债务遣返和官方储备管理。'),\n",
       " ('儿童保育市场、父母劳动力供应和儿童发展',\n",
       "  'Samuel Berlinski, Maria Marta Ferreyra, Luca Flabbi, and Juan David Martin',\n",
       "  '我们开发并估计了儿童保育的供需模型。在需求方面，家庭做出消费、劳动力供应和育儿的决定。在供应方面，中心做出准入、价格和质量决策。此外，还提供带薪和非正式护理人员。儿童的发展取决于与父母和非租赁护理提供者相处的时间。我们使用来自幼儿纵向研究、出生队列的数据来估计模型，并进行政策实验。只有在高质量的中心或在职母亲才能使用的代金券尤其有效，因为它们在增加母亲劳动力供应的同时，还能促进儿童发展。')]"
      ]
     },
     "execution_count": 12,
     "metadata": {},
     "output_type": "execute_result"
    }
   ],
   "source": [
    "article_cn = [*zip(title_cn, names, abstract_cn)]\n",
    "article_cn"
   ]
  },
  {
   "cell_type": "code",
   "execution_count": 13,
   "metadata": {},
   "outputs": [],
   "source": [
    "with open('jpe/JPE_CN_' + issue + '.html','w',encoding='UTF-8') as f:\n",
    "    f.write(gen_css.gen_content_from_list(title_cn))\n",
    "    f.write(gen_css.gen_abstract_list(list(article_cn)))\n",
    "add_current.add('JPE_CN_' + issue, time.ctime(), 'jpe/JPE_CN_' + issue + '.html')"
   ]
  },
  {
   "cell_type": "code",
   "execution_count": null,
   "metadata": {},
   "outputs": [],
   "source": [
    "abstract_cn = BaiduTrans.trans_list(abstract)\n",
    "title_cn = BaiduTrans.trans_list(title)\n",
    "article_cn = [*zip(title_cn, names, abstract_cn)]\n",
    "with open('jpe/JPE_CN_' + issue + '.html','w',encoding='UTF-8') as f:\n",
    "    f.write(gen_css.gen_content_from_list(title_cn))\n",
    "    f.write(gen_css.gen_abstract_list(list(article_cn)))\n",
    "add_current.add('JPE_CN_' + issue, time.ctime(), 'jpe/JPE_CN_' + issue + '.html')"
   ]
  }
 ],
 "metadata": {
  "kernelspec": {
   "display_name": "Python 3",
   "language": "python",
   "name": "python3"
  },
  "language_info": {
   "codemirror_mode": {
    "name": "ipython",
    "version": 3
   },
   "file_extension": ".py",
   "mimetype": "text/x-python",
   "name": "python",
   "nbconvert_exporter": "python",
   "pygments_lexer": "ipython3",
   "version": "3.12.3"
  }
 },
 "nbformat": 4,
 "nbformat_minor": 2
}
