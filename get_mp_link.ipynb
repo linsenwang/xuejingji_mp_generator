{
 "cells": [
  {
   "cell_type": "code",
   "execution_count": 31,
   "metadata": {},
   "outputs": [],
   "source": [
    "import requests\n",
    "from bs4 import BeautifulSoup\n",
    "import re\n",
    "import time"
   ]
  },
  {
   "cell_type": "code",
   "execution_count": 2,
   "metadata": {},
   "outputs": [],
   "source": [
    "ori_data = requests.get('https://mp.weixin.qq.com/s/GKqYXqAKoopdHW-sKK-UeQ')"
   ]
  },
  {
   "cell_type": "code",
   "execution_count": 3,
   "metadata": {},
   "outputs": [],
   "source": [
    "data = BeautifulSoup(ori_data.text, 'html.parser')"
   ]
  },
  {
   "cell_type": "code",
   "execution_count": 6,
   "metadata": {},
   "outputs": [
    {
     "data": {
      "text/plain": [
       "[<a class=\"wx_tap_link js_wx_tap_highlight weui-wa-hotarea\" href=\"javascript:void(0);\" id=\"js_name\">\n",
       "                 经经有道              </a>,\n",
       " <a data-linktype=\"2\" href=\"https://mp.weixin.qq.com/s?__biz=MzU4MzQ5NzM5Nw==&amp;mid=2247491979&amp;idx=1&amp;sn=57bce222c25388aa172109dba89db6b2&amp;scene=21#wechat_redirect\" style=\"box-sizing: border-box;\" target=\"_blank\">【学经济·顶级期刊目录】The Economic Journal 2024年第3期目录摘要</a>,\n",
       " <a data-linktype=\"2\" href=\"https://mp.weixin.qq.com/s?__biz=MzU4MzQ5NzM5Nw==&amp;mid=2247491972&amp;idx=1&amp;sn=6022bf844f8dd9d21a49b1d6bd8cc9a4&amp;scene=21#wechat_redirect\" style=\"box-sizing: border-box;\" target=\"_blank\">【学经济·顶级期刊目录】Econometrica Volume 92, Issue 3</a>,\n",
       " <a data-linktype=\"2\" href=\"https://mp.weixin.qq.com/s?__biz=MzU4MzQ5NzM5Nw==&amp;mid=2247491882&amp;idx=1&amp;sn=07a4e5dcbef45163dc1689602856415a&amp;scene=21#wechat_redirect\" style=\"box-sizing: border-box;\" target=\"_blank\">【学经济推文179】平行趋势检验可靠吗？一个更可信的检验方法</a>,\n",
       " <a data-linktype=\"2\" href=\"https://mp.weixin.qq.com/s?__biz=MzU4MzQ5NzM5Nw==&amp;mid=2247491838&amp;idx=1&amp;sn=878308b27f8b7150abd2bedf6de7e55e&amp;scene=21#wechat_redirect\" style=\"box-sizing: border-box;\" target=\"_blank\">【学经济推文178】航班一开，知识就来：邻近性对知识外溢的因果效应</a>,\n",
       " <a class=\"weui-dialog__btn weui-dialog__btn_default\" href=\"javascript:;\" id=\"js_alert_confirm\">知道了</a>,\n",
       " <a class=\"weui-dialog__btn weui-dialog__btn_default\" href=\"javascript:void(0);\" id=\"js_minipro_dialog_cancel\" role=\"button\">取消</a>,\n",
       " <a class=\"weui-dialog__btn weui-dialog__btn_primary\" href=\"javascript:void(0);\" id=\"js_minipro_dialog_ok\" role=\"button\">允许</a>,\n",
       " <a class=\"weui-dialog__btn weui-dialog__btn_default\" href=\"javascript:void(0);\" id=\"js_link_dialog_cancel\" role=\"button\">取消</a>,\n",
       " <a class=\"weui-dialog__btn weui-dialog__btn_primary\" href=\"javascript:void(0);\" id=\"js_link_dialog_ok\" role=\"button\">允许</a>]"
      ]
     },
     "execution_count": 6,
     "metadata": {},
     "output_type": "execute_result"
    }
   ],
   "source": [
    "a = data.find_all('a')\n",
    "a"
   ]
  },
  {
   "cell_type": "code",
   "execution_count": 20,
   "metadata": {},
   "outputs": [
    {
     "data": {
      "text/plain": [
       "['https://mp.weixin.qq.com/s?__biz=MzU4MzQ5NzM5Nw==&mid=2247491979&idx=1&sn=57bce222c25388aa172109dba89db6b2&scene=21#wechat_redirect',\n",
       " 'https://mp.weixin.qq.com/s?__biz=MzU4MzQ5NzM5Nw==&mid=2247491972&idx=1&sn=6022bf844f8dd9d21a49b1d6bd8cc9a4&scene=21#wechat_redirect']"
      ]
     },
     "execution_count": 20,
     "metadata": {},
     "output_type": "execute_result"
    }
   ],
   "source": [
    "h = []\n",
    "for i in a:\n",
    "    m = i.find(string=re.compile('目录'))\n",
    "    if m != None:\n",
    "        h.append(m.parent.get('href'))\n",
    "h"
   ]
  },
  {
   "cell_type": "code",
   "execution_count": 47,
   "metadata": {},
   "outputs": [],
   "source": [
    "def get_time(past):\n",
    "    pat1 = r\"var ct = \\\"(\\d+)\\\"\"        \n",
    "    date1 = re.search(pat1, past.text).group(1)\n",
    "    date1 = int(date1)\n",
    "    #转换为其他日期格式,如:\"%Y-%m-%d %H:%M:%S\"\n",
    "    timeArray = time.localtime(date1)\n",
    "    otherStyleTime = time.strftime(\"%Y-%m-%d %H:%M:%S\", timeArray)\n",
    "    return date1"
   ]
  },
  {
   "cell_type": "code",
   "execution_count": 50,
   "metadata": {},
   "outputs": [
    {
     "name": "stdout",
     "output_type": "stream",
     "text": [
      "1718686221\n",
      "1718599982\n"
     ]
    }
   ],
   "source": [
    "for ml in h:\n",
    "    past = requests.get(ml)\n",
    "    print(get_time(past))"
   ]
  },
  {
   "cell_type": "code",
   "execution_count": 45,
   "metadata": {},
   "outputs": [
    {
     "data": {
      "text/plain": [
       "\"past_data = BeautifulSoup(past.text, 'html.parser')\\npast_data\\npast_data.find(id='publish_time')\""
      ]
     },
     "execution_count": 45,
     "metadata": {},
     "output_type": "execute_result"
    }
   ],
   "source": [
    "'''past_data = BeautifulSoup(past.text, 'html.parser')\n",
    "past_data\n",
    "past_data.find(id='publish_time')'''"
   ]
  },
  {
   "cell_type": "code",
   "execution_count": 49,
   "metadata": {},
   "outputs": [
    {
     "name": "stdout",
     "output_type": "stream",
     "text": [
      "1718599982\n"
     ]
    }
   ],
   "source": [
    "past = requests.get(h[1])\n",
    "print(get_time(past))"
   ]
  },
  {
   "cell_type": "code",
   "execution_count": null,
   "metadata": {},
   "outputs": [],
   "source": []
  }
 ],
 "metadata": {
  "kernelspec": {
   "display_name": "Python 3",
   "language": "python",
   "name": "python3"
  },
  "language_info": {
   "codemirror_mode": {
    "name": "ipython",
    "version": 3
   },
   "file_extension": ".py",
   "mimetype": "text/x-python",
   "name": "python",
   "nbconvert_exporter": "python",
   "pygments_lexer": "ipython3",
   "version": "3.12.3"
  }
 },
 "nbformat": 4,
 "nbformat_minor": 2
}
