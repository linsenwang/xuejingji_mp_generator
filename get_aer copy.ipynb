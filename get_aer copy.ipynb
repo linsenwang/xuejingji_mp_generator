{
 "cells": [
  {
   "cell_type": "code",
   "execution_count": 1,
   "metadata": {},
   "outputs": [],
   "source": [
    "import requests\n",
    "from bs4 import BeautifulSoup\n",
    "import re\n",
    "import time\n",
    "import gen_css\n",
    "import add_current\n",
    "import BaiduTrans"
   ]
  },
  {
   "cell_type": "code",
   "execution_count": 2,
   "metadata": {},
   "outputs": [],
   "source": [
    "aer = requests.get('https://www.aeaweb.org/journals/aer')"
   ]
  },
  {
   "cell_type": "code",
   "execution_count": 3,
   "metadata": {},
   "outputs": [],
   "source": [
    "aer_data = BeautifulSoup(aer.text, 'html.parser')"
   ]
  },
  {
   "cell_type": "code",
   "execution_count": 4,
   "metadata": {},
   "outputs": [
    {
     "data": {
      "text/plain": [
       "<a class=\"current-issue-link button highlight\" href=\"/issues/768\">Current Issue</a>"
      ]
     },
     "execution_count": 4,
     "metadata": {},
     "output_type": "execute_result"
    }
   ],
   "source": [
    "current_link = aer_data.find(class_=\"current-issue-link\")\n",
    "current_link"
   ]
  },
  {
   "cell_type": "code",
   "execution_count": 5,
   "metadata": {},
   "outputs": [
    {
     "data": {
      "text/plain": [
       "'https://www.aeaweb.org/issues/768'"
      ]
     },
     "execution_count": 5,
     "metadata": {},
     "output_type": "execute_result"
    }
   ],
   "source": [
    "current_url = 'https://www.aeaweb.org' + current_link.get('href')\n",
    "current_url"
   ]
  },
  {
   "cell_type": "code",
   "execution_count": 6,
   "metadata": {},
   "outputs": [
    {
     "data": {
      "text/plain": [
       "'issues_768'"
      ]
     },
     "execution_count": 6,
     "metadata": {},
     "output_type": "execute_result"
    }
   ],
   "source": [
    "issue = re.search('iss.+',current_url)[0]\n",
    "issue = re.sub(r\"/\", \"_\", issue)\n",
    "issue"
   ]
  },
  {
   "cell_type": "code",
   "execution_count": 7,
   "metadata": {},
   "outputs": [],
   "source": [
    "current_data = requests.get(current_url)"
   ]
  },
  {
   "cell_type": "code",
   "execution_count": 8,
   "metadata": {},
   "outputs": [],
   "source": [
    "data = BeautifulSoup(current_data.text, 'html.parser')"
   ]
  },
  {
   "cell_type": "code",
   "execution_count": 9,
   "metadata": {},
   "outputs": [],
   "source": [
    "articles = data.find_all(class_='journal-article')"
   ]
  },
  {
   "cell_type": "code",
   "execution_count": 15,
   "metadata": {},
   "outputs": [],
   "source": [
    "title = []\n",
    "name = []\n",
    "abstracts = []\n",
    "art_link = articles[5]\n",
    "art_link = 'https://www.aeaweb.org' + art_link.find('a').get('href')\n",
    "article_requests = requests.get(art_link)\n",
    "article_data = BeautifulSoup(article_requests.text, 'html.parser')\n"
   ]
  },
  {
   "cell_type": "code",
   "execution_count": 31,
   "metadata": {},
   "outputs": [
    {
     "data": {
      "text/plain": [
       "(['Demographic Origins of the Start-up Deficit',\n",
       "  'Demographic Origins of the Start-up Deficit',\n",
       "  'Demographic Origins of the Start-up Deficit',\n",
       "  'Demographic Origins of the Start-up Deficit',\n",
       "  'Demographic Origins of the Start-up Deficit',\n",
       "  'Demographic Origins of the Start-up Deficit',\n",
       "  'Demographic Origins of the Start-up Deficit',\n",
       "  'Demographic Origins of the Start-up Deficit',\n",
       "  'Demographic Origins of the Start-up Deficit',\n",
       "  'Demographic Origins of the Start-up Deficit',\n",
       "  'Demographic Origins of the Start-up Deficit',\n",
       "  'Demographic Origins of the Start-up Deficit',\n",
       "  'Demographic Origins of the Start-up Deficit',\n",
       "  'Demographic Origins of the Start-up Deficit',\n",
       "  'Demographic Origins of the Start-up Deficit',\n",
       "  'Demographic Origins of the Start-up Deficit'],\n",
       " ['Fatih Karahan, Benjamin Pugsley',\n",
       "  'Fatih Karahan, Benjamin Pugsley',\n",
       "  'Fatih Karahan, Benjamin Pugsley',\n",
       "  'Fatih Karahan, Benjamin Pugsley',\n",
       "  'Fatih Karahan, Benjamin Pugsley',\n",
       "  'Fatih Karahan, Benjamin Pugsley',\n",
       "  'Fatih Karahan, Benjamin Pugsley',\n",
       "  'Fatih Karahan, Benjamin Pugsley',\n",
       "  'Fatih Karahan, Benjamin Pugsley',\n",
       "  'Fatih Karahan, Benjamin Pugsley',\n",
       "  'Fatih Karahan, Benjamin Pugsley',\n",
       "  'Fatih Karahan, Benjamin Pugsley',\n",
       "  'Fatih Karahan, Benjamin Pugsley',\n",
       "  'Fatih Karahan, Benjamin Pugsley',\n",
       "  'Fatih Karahan, Benjamin Pugsley'],\n",
       " ['We propose a simple explanation for the long-run decline in the US start-up rate. It originates from a slowdown in labor supply growth since the late 1970s, largely predetermined by demographics. This channel can explain roughly half of the decline and why incumbent firm survival and average growth over the life cycle have changed little. We show these results in a standard model of firm dynamics and test the mechanism using cross-state variation in labor supply growth. Finally, we show that a longer entry rate series imputed using historical establishment tabulations rises over the 1960s–1970s period of accelerating labor force growth.',\n",
       "  'We propose a simple explanation for the long-run decline in the US start-up rate. It originates from a slowdown in labor supply growth since the late 1970s, largely predetermined by demographics. This channel can explain roughly half of the decline and why incumbent firm survival and average growth over the life cycle have changed little. We show these results in a standard model of firm dynamics and test the mechanism using cross-state variation in labor supply growth. Finally, we show that a longer entry rate series imputed using historical establishment tabulations rises over the 1960s–1970s period of accelerating labor force growth.',\n",
       "  'We propose a simple explanation for the long-run decline in the US start-up rate. It originates from a slowdown in labor supply growth since the late 1970s, largely predetermined by demographics. This channel can explain roughly half of the decline and why incumbent firm survival and average growth over the life cycle have changed little. We show these results in a standard model of firm dynamics and test the mechanism using cross-state variation in labor supply growth. Finally, we show that a longer entry rate series imputed using historical establishment tabulations rises over the 1960s–1970s period of accelerating labor force growth.',\n",
       "  'We propose a simple explanation for the long-run decline in the US start-up rate. It originates from a slowdown in labor supply growth since the late 1970s, largely predetermined by demographics. This channel can explain roughly half of the decline and why incumbent firm survival and average growth over the life cycle have changed little. We show these results in a standard model of firm dynamics and test the mechanism using cross-state variation in labor supply growth. Finally, we show that a longer entry rate series imputed using historical establishment tabulations rises over the 1960s–1970s period of accelerating labor force growth.',\n",
       "  'We propose a simple explanation for the long-run decline in the US start-up rate. It originates from a slowdown in labor supply growth since the late 1970s, largely predetermined by demographics. This channel can explain roughly half of the decline and why incumbent firm survival and average growth over the life cycle have changed little. We show these results in a standard model of firm dynamics and test the mechanism using cross-state variation in labor supply growth. Finally, we show that a longer entry rate series imputed using historical establishment tabulations rises over the 1960s–1970s period of accelerating labor force growth.',\n",
       "  'We propose a simple explanation for the long-run decline in the US start-up rate. It originates from a slowdown in labor supply growth since the late 1970s, largely predetermined by demographics. This channel can explain roughly half of the decline and why incumbent firm survival and average growth over the life cycle have changed little. We show these results in a standard model of firm dynamics and test the mechanism using cross-state variation in labor supply growth. Finally, we show that a longer entry rate series imputed using historical establishment tabulations rises over the 1960s–1970s period of accelerating labor force growth.',\n",
       "  'We propose a simple explanation for the long-run decline in the US start-up rate. It originates from a slowdown in labor supply growth since the late 1970s, largely predetermined by demographics. This channel can explain roughly half of the decline and why incumbent firm survival and average growth over the life cycle have changed little. We show these results in a standard model of firm dynamics and test the mechanism using cross-state variation in labor supply growth. Finally, we show that a longer entry rate series imputed using historical establishment tabulations rises over the 1960s–1970s period of accelerating labor force growth.',\n",
       "  'We propose a simple explanation for the long-run decline in the US start-up rate. It originates from a slowdown in labor supply growth since the late 1970s, largely predetermined by demographics. This channel can explain roughly half of the decline and why incumbent firm survival and average growth over the life cycle have changed little. We show these results in a standard model of firm dynamics and test the mechanism using cross-state variation in labor supply growth. Finally, we show that a longer entry rate series imputed using historical establishment tabulations rises over the 1960s–1970s period of accelerating labor force growth.',\n",
       "  'We propose a simple explanation for the long-run decline in the US start-up rate. It originates from a slowdown in labor supply growth since the late 1970s, largely predetermined by demographics. This channel can explain roughly half of the decline and why incumbent firm survival and average growth over the life cycle have changed little. We show these results in a standard model of firm dynamics and test the mechanism using cross-state variation in labor supply growth. Finally, we show that a longer entry rate series imputed using historical establishment tabulations rises over the 1960s–1970s period of accelerating labor force growth.',\n",
       "  'We propose a simple explanation for the long-run decline in the US start-up rate. It originates from a slowdown in labor supply growth since the late 1970s, largely predetermined by demographics. This channel can explain roughly half of the decline and why incumbent firm survival and average growth over the life cycle have changed little. We show these results in a standard model of firm dynamics and test the mechanism using cross-state variation in labor supply growth. Finally, we show that a longer entry rate series imputed using historical establishment tabulations rises over the 1960s–1970s period of accelerating labor force growth.',\n",
       "  'We propose a simple explanation for the long-run decline in the US start-up rate. It originates from a slowdown in labor supply growth since the late 1970s, largely predetermined by demographics. This channel can explain roughly half of the decline and why incumbent firm survival and average growth over the life cycle have changed little. We show these results in a standard model of firm dynamics and test the mechanism using cross-state variation in labor supply growth. Finally, we show that a longer entry rate series imputed using historical establishment tabulations rises over the 1960s–1970s period of accelerating labor force growth.',\n",
       "  'We propose a simple explanation for the long-run decline in the US start-up rate. It originates from a slowdown in labor supply growth since the late 1970s, largely predetermined by demographics. This channel can explain roughly half of the decline and why incumbent firm survival and average growth over the life cycle have changed little. We show these results in a standard model of firm dynamics and test the mechanism using cross-state variation in labor supply growth. Finally, we show that a longer entry rate series imputed using historical establishment tabulations rises over the 1960s–1970s period of accelerating labor force growth.',\n",
       "  'We propose a simple explanation for the long-run decline in the US start-up rate. It originates from a slowdown in labor supply growth since the late 1970s, largely predetermined by demographics. This channel can explain roughly half of the decline and why incumbent firm survival and average growth over the life cycle have changed little. We show these results in a standard model of firm dynamics and test the mechanism using cross-state variation in labor supply growth. Finally, we show that a longer entry rate series imputed using historical establishment tabulations rises over the 1960s–1970s period of accelerating labor force growth.',\n",
       "  'We propose a simple explanation for the long-run decline in the US start-up rate. It originates from a slowdown in labor supply growth since the late 1970s, largely predetermined by demographics. This channel can explain roughly half of the decline and why incumbent firm survival and average growth over the life cycle have changed little. We show these results in a standard model of firm dynamics and test the mechanism using cross-state variation in labor supply growth. Finally, we show that a longer entry rate series imputed using historical establishment tabulations rises over the 1960s–1970s period of accelerating labor force growth.',\n",
       "  'We propose a simple explanation for the long-run decline in the US start-up rate. It originates from a slowdown in labor supply growth since the late 1970s, largely predetermined by demographics. This channel can explain roughly half of the decline and why incumbent firm survival and average growth over the life cycle have changed little. We show these results in a standard model of firm dynamics and test the mechanism using cross-state variation in labor supply growth. Finally, we show that a longer entry rate series imputed using historical establishment tabulations rises over the 1960s–1970s period of accelerating labor force growth.'],\n",
       " '\\n\\n         Fatih Karahan    \\n\\n         Benjamin Pugsley    \\n\\n         Ayşegül Şahin    \\n',\n",
       " '\\n\\n\\n\\n         Ayşegül Şahin    \\n')"
      ]
     },
     "execution_count": 31,
     "metadata": {},
     "output_type": "execute_result"
    }
   ],
   "source": [
    "ori_abstract = article_data.find(class_='abstract').text\n",
    "title.append(article_data.find(class_='title').text)\n",
    "ori_name = article_data.find(class_='attribution').text\n",
    "re_name = re.findall(r'\\b[A-Za-z]+(?:\\s[A-Za-z]+)+\\b', ori_name)\n",
    "names = ', '.join(re_name)\n",
    "#a = re.findall(r'\\b[A-Za-z]+(?:\\s[A-Za-z]+)+\\b', ori_name)\n",
    "#b = ', '.join(a)\n",
    "'''a = re.sub(' \\n\\n', ',', ori_name)\n",
    "b = re.sub('\\n|  ', '', a)\n",
    "b = re.sub(' ,', ',', b)\n",
    "b = re.sub(' ', '', b, 1)'''\n",
    "b = re.sub('.+\\n\\n.+', '', ori_name)\n",
    "name.append(names)\n",
    "abstract = cleaned_text = re.sub(r\"Abstract|\\t|\\n\", \"\", ori_abstract)\n",
    "abstracts.append(abstract)\n",
    "ori_name = article_data.find(class_='attribution').text\n",
    "title, name, abstracts, ori_name, b"
   ]
  },
  {
   "cell_type": "code",
   "execution_count": 10,
   "metadata": {},
   "outputs": [
    {
     "data": {
      "text/plain": [
       "[('Information Choice in Auctions',\n",
       "  'Nina Bobkova',\n",
       "  'The choice of an auction mechanism influences which object characteristics bidders learn about and whether the object is allocated efficiently. Some object characteristics are valued equally by all bidders and thus are inconsequential for the efficient allocation. Others matter only to certain bidders and thus determine the bidder with the highest valuation. I show when the second-price auction is ex ante efficient by inducing bidders to seek socially relevant information. When facing a continuous learning trade-off, bidders learn more about socially relevant components and less about common characteristics of the object in a second-price auction than a first-price auction.'),\n",
       " ('Revealing Stereotypes: Evidence from Immigrants in Schools',\n",
       "  'Alberto Alesina, Michela Carlana, Eliana La Ferrara, Paolo Pinotti',\n",
       "  \"We study how people change their behavior after being made aware of bias. Teachers in Italian schools give lower grades to immigrant students relative to natives of comparable ability. In two experiments, we reveal to teachers their own stereotypes, measured by an Implicit Association Test (IAT). In the first, we find that learning one's IAT before assigning grades reduces the native-immigrant grade gap. In the second, IAT disclosure and generic debiasing have similar average effects, but there is heterogeneity: teachers with stronger negative stereotypes do not respond to generic debiasing but change their behavior when informed about their own IAT.\"),\n",
       " ('Misallocation under Trade Liberalization',\n",
       "  'Yan Bai, Keyu Jin, Dan Lu',\n",
       "  'This paper formalizes a classic idea that in second-best environments trade can induce welfare losses: incremental income losses from distortions can outweigh trade gains. In a Melitz model with distortionary taxes, we derive sufficient statistics for welfare gains/losses and show departures from the efficient case (Arkolakis, Costinot, and Rodríguez-Clare 2012) can be captured by the gap between an input and output share and domestic extensive margin elasticities. The loss reflects an endogenous selection of more subsidized firms into exporting. Using Chinese manufacturing data in 2005 and model-inferred firm-level distortions, we demonstrate that a sizable negative fiscal externality can potentially offset conventional gains.'),\n",
       " ('Demographic Origins of the Start-up Deficit',\n",
       "  'Fatih Karahan, Benjamin Pugsley',\n",
       "  'We propose a simple explanation for the long-run decline in the US start-up rate. It originates from a slowdown in labor supply growth since the late 1970s, largely predetermined by demographics. This channel can explain roughly half of the decline and why incumbent firm survival and average growth over the life cycle have changed little. We show these results in a standard model of firm dynamics and test the mechanism using cross-state variation in labor supply growth. Finally, we show that a longer entry rate series imputed using historical establishment tabulations rises over the 1960s–1970s period of accelerating labor force growth.'),\n",
       " ('Opportunity Unraveled: Private Information and the Missing Markets for Financing Human Capital',\n",
       "  'Daniel Herbst, Nathaniel Hendren',\n",
       "  'We examine whether adverse selection has unraveled private markets for equity and state-contingent debt contracts for financing higher education. Using survey data on beliefs, we show a typical college-goer would have to repay $1.64 in present value for every $1 of financing to overcome adverse selection in an equity market. We find that risk-averse college-goers are not willing to accept these terms, so markets unravel. We discuss why moral hazard, biased beliefs, and outside credit options are less likely to explain the absence of these markets. We quantify the welfare gains for subsidizing equity-like contracts that mitigate college-going risks.'),\n",
       " ('Bank Runs, Fragility, and Credit Easing',\n",
       "  'Manuel Amador, Javier Bianchi',\n",
       "  'We present a tractable dynamic general equilibrium model of self-fulfilling bank runs, where banks trade capital in competitive and liquid markets but remain vulnerable to runs due to a loss of creditor confidence. We characterize how the vulnerability of an individual bank depends on its leverage position and the economy-wide asset prices. We study the effect of credit easing policies, in the form of asset purchases. When a banking crisis is generated by runs, credit easing can reduce the number of defaulting banks and enhance welfare. When the crisis is driven by fundamentals, credit easing may have adverse consequences.'),\n",
       " ('100 Years of Rising Corporate Concentration',\n",
       "  'Spencer Y, Yueran Ma, Kaspar Zimmermann',\n",
       "  'We collect data on the size distribution of US businesses for 100 years, and use these data to estimate the concentration of production (e.g., asset share or sales share of top businesses). The data show that concentration has increased persistently over the past century. Rising concentration was stronger in manufacturing and mining before the 1970s, and stronger in services, retail, and wholesale after the 1970s. The results are robust to different measurement methods and consistent across different historical sources. Our findings suggest that large firms have become more important in the US economy for a long period of time.'),\n",
       " ('Personalized Pricing and Competition',\n",
       "  'Andrew Rhodes, Jidong Zhou',\n",
       "  'We study personalized pricing in a general oligopoly model. The impact of personalized pricing relative to uniform pricing hinges on the degree of market coverage. If market conditions are such that coverage is high (e.g., the production cost is low or the number of firms is high), personalized pricing harms firms and benefits consumers, whereas the opposite is true if coverage is low. When only some firms have data to personalize prices, consumers can be worse off compared to when either all or no firms personalize prices.'),\n",
       " ('Organized Crime and Economic Growth: Evidence from Municipalities Infiltrated by the Mafia',\n",
       "  'Alessandra Fenizia, Raffaele Saggio',\n",
       "  'This paper studies the long-run economic impact of dismissing city councils infiltrated by organized crime. Applying a matched difference-in-differences design to the universe of Italian social security records, we find that city council dismissals (CCDs) increase employment, the number of firms, and industrial real estate prices. The effects are concentrated in Mafia-dominated sectors and in municipalities where fewer incumbents are reelected. The dismissals generate large economic returns by weakening the Mafia and fostering trust in local institutions. The analysis suggests that CCDs represent an effective intervention for establishing legitimacy and spurring economic activity in areas dominated by organized crime.'),\n",
       " ('The Gift of a Lifetime: The Hospital, Modern Medicine, and Mortality',\n",
       "  'Alex Hollingsworth, Krzysztof Karbownik, Melissa A, Anthony Wray',\n",
       "  'We explore how access to modern hospitals and medicine affects mortality by leveraging efforts of the Duke Endowment to modernize hospitals in the early twentieth century. The Endowment helped communities build and expand hospitals, obtain state-of-the-art medical technology, attract qualified medical personnel, and refine management practices. We find that Duke support increased the size and quality of the medical sector, fostering growth in not-for-profit hospitals and high-quality physicians. Duke funding reduced both infant mortality—with larger effects for Black infants than White infants—and long-run mortality. Finally, we find that communities aided by Duke benefited more from medical innovations.')]"
      ]
     },
     "execution_count": 10,
     "metadata": {},
     "output_type": "execute_result"
    }
   ],
   "source": [
    "title = []\n",
    "name = []\n",
    "abstracts = []\n",
    "for art_link in articles:\n",
    "    try:\n",
    "        art_link = 'https://www.aeaweb.org' + art_link.find('a').get('href')\n",
    "        article_requests = requests.get(art_link)\n",
    "        article_data = BeautifulSoup(article_requests.text, 'html.parser')\n",
    "        ori_abstract = article_data.find(class_='abstract').text\n",
    "        title.append(article_data.find(class_='title').text)\n",
    "        ori_name = article_data.find(class_='attribution').text\n",
    "        re_name = re.findall(r'\\b[A-Za-z]+(?:\\s[A-Za-z]+)+\\b', ori_name)\n",
    "        names = ', '.join(re_name)\n",
    "        name.append(names)\n",
    "        abstract = cleaned_text = re.sub(r\"Abstract|\\t|\\n\", \"\", ori_abstract)\n",
    "        abstracts.append(abstract)\n",
    "    except:\n",
    "        pass\n",
    "article = [*zip(title, name, abstracts)]\n",
    "article"
   ]
  },
  {
   "cell_type": "code",
   "execution_count": 11,
   "metadata": {},
   "outputs": [],
   "source": [
    "with open('aer/AER_' + issue + '.html','w',encoding='UTF-8') as f:\n",
    "    f.write(gen_css.gen_content_from_list(title))\n",
    "    f.write(gen_css.gen_abstract_list(list(article)))"
   ]
  },
  {
   "cell_type": "code",
   "execution_count": 12,
   "metadata": {},
   "outputs": [],
   "source": [
    "add_current.add('AER_' + issue, time.ctime(), 'aer/AER_' + issue + '.html')"
   ]
  },
  {
   "cell_type": "code",
   "execution_count": 13,
   "metadata": {},
   "outputs": [
    {
     "ename": "KeyError",
     "evalue": "'BDAPIKEY'",
     "output_type": "error",
     "traceback": [
      "\u001b[0;31m---------------------------------------------------------------------------\u001b[0m",
      "\u001b[0;31mKeyError\u001b[0m                                  Traceback (most recent call last)",
      "Cell \u001b[0;32mIn[13], line 1\u001b[0m\n\u001b[0;32m----> 1\u001b[0m abstract_cn \u001b[38;5;241m=\u001b[39m \u001b[43mBaiduTrans\u001b[49m\u001b[38;5;241;43m.\u001b[39;49m\u001b[43mtrans_list\u001b[49m\u001b[43m(\u001b[49m\u001b[43mabstracts\u001b[49m\u001b[43m)\u001b[49m\n\u001b[1;32m      2\u001b[0m title_cn \u001b[38;5;241m=\u001b[39m BaiduTrans\u001b[38;5;241m.\u001b[39mtrans_list(title)\n\u001b[1;32m      3\u001b[0m article_cn \u001b[38;5;241m=\u001b[39m [\u001b[38;5;241m*\u001b[39m\u001b[38;5;28mzip\u001b[39m(title_cn, name, abstract_cn)]\n",
      "File \u001b[0;32m~/Library/CloudStorage/OneDrive-Personal/033_git/xuejingji_mp_generator copy/BaiduTrans.py:50\u001b[0m, in \u001b[0;36mtrans_list\u001b[0;34m(list)\u001b[0m\n\u001b[1;32m     48\u001b[0m list_cn \u001b[38;5;241m=\u001b[39m []\n\u001b[1;32m     49\u001b[0m \u001b[38;5;28;01mfor\u001b[39;00m i \u001b[38;5;129;01min\u001b[39;00m \u001b[38;5;28mlist\u001b[39m:\n\u001b[0;32m---> 50\u001b[0m     te \u001b[38;5;241m=\u001b[39m \u001b[43mtrans\u001b[49m\u001b[43m(\u001b[49m\u001b[43mi\u001b[49m\u001b[43m)\u001b[49m\n\u001b[1;32m     51\u001b[0m     list_cn\u001b[38;5;241m.\u001b[39mappend(te[\u001b[38;5;124m'\u001b[39m\u001b[38;5;124mtrans_result\u001b[39m\u001b[38;5;124m'\u001b[39m][\u001b[38;5;241m0\u001b[39m][\u001b[38;5;124m'\u001b[39m\u001b[38;5;124mdst\u001b[39m\u001b[38;5;124m'\u001b[39m])\n\u001b[1;32m     52\u001b[0m     \u001b[38;5;66;03m#l_cn.append(te)\u001b[39;00m\n",
      "File \u001b[0;32m~/Library/CloudStorage/OneDrive-Personal/033_git/xuejingji_mp_generator copy/BaiduTrans.py:16\u001b[0m, in \u001b[0;36mtrans\u001b[0;34m(query)\u001b[0m\n\u001b[1;32m     13\u001b[0m \u001b[38;5;28;01mdef\u001b[39;00m \u001b[38;5;21mtrans\u001b[39m(query):\n\u001b[1;32m     15\u001b[0m     appid \u001b[38;5;241m=\u001b[39m \u001b[38;5;124m'\u001b[39m\u001b[38;5;124m20240616002078269\u001b[39m\u001b[38;5;124m'\u001b[39m  \u001b[38;5;66;03m# 填写你的appid\u001b[39;00m\n\u001b[0;32m---> 16\u001b[0m     secretKey \u001b[38;5;241m=\u001b[39m \u001b[43mos\u001b[49m\u001b[38;5;241;43m.\u001b[39;49m\u001b[43menviron\u001b[49m\u001b[43m[\u001b[49m\u001b[38;5;124;43m'\u001b[39;49m\u001b[38;5;124;43mBDAPIKEY\u001b[39;49m\u001b[38;5;124;43m'\u001b[39;49m\u001b[43m]\u001b[49m  \u001b[38;5;66;03m# 填写你的密钥\u001b[39;00m\n\u001b[1;32m     18\u001b[0m     httpClient \u001b[38;5;241m=\u001b[39m \u001b[38;5;28;01mNone\u001b[39;00m\n\u001b[1;32m     19\u001b[0m     myurl \u001b[38;5;241m=\u001b[39m \u001b[38;5;124m'\u001b[39m\u001b[38;5;124m/api/trans/vip/translate\u001b[39m\u001b[38;5;124m'\u001b[39m\n",
      "File \u001b[0;32m<frozen os>:685\u001b[0m, in \u001b[0;36m__getitem__\u001b[0;34m(self, key)\u001b[0m\n",
      "\u001b[0;31mKeyError\u001b[0m: 'BDAPIKEY'"
     ]
    }
   ],
   "source": [
    "abstract_cn = BaiduTrans.trans_list(abstracts)\n",
    "title_cn = BaiduTrans.trans_list(title)\n",
    "article_cn = [*zip(title_cn, name, abstract_cn)]\n",
    "with open('jpe/JPE_CN_' + issue + '.html','w',encoding='UTF-8') as f:\n",
    "    f.write(gen_css.gen_content_from_list(title_cn))\n",
    "    f.write(gen_css.gen_abstract_list(list(article_cn)))\n",
    "add_current.add('JPE_CN_' + issue, time.ctime(), 'jpe/JPE_CN_' + issue + '.html')"
   ]
  },
  {
   "cell_type": "code",
   "execution_count": null,
   "metadata": {},
   "outputs": [],
   "source": [
    "article_cn = [*zip(title_cn, name, abstract_cn)]\n",
    "with open('jpe/JPE_CN_' + issue + '.html','w',encoding='UTF-8') as f:\n",
    "    f.write(gen_css.gen_content_from_list(title_cn))\n",
    "    f.write(gen_css.gen_abstract_list(list(article_cn)))\n",
    "add_current.add('JPE_CN_' + issue, time.ctime(), 'jpe/JPE_CN_' + issue + '.html')"
   ]
  },
  {
   "cell_type": "code",
   "execution_count": 32,
   "metadata": {},
   "outputs": [
    {
     "data": {
      "text/plain": [
       "'\\n\\n\\n\\n         Ayşegül Şahin    \\n'"
      ]
     },
     "execution_count": 32,
     "metadata": {},
     "output_type": "execute_result"
    }
   ],
   "source": [
    "b = re.sub('.+\\n\\n.+', '', ori_name)\n",
    "b"
   ]
  },
  {
   "cell_type": "code",
   "execution_count": 62,
   "metadata": {},
   "outputs": [
    {
     "data": {
      "text/plain": [
       "'Fatih Karahan, Benjamin Pugsley, Ayşegül Şahin'"
      ]
     },
     "execution_count": 62,
     "metadata": {},
     "output_type": "execute_result"
    }
   ],
   "source": [
    "name = re.sub(' *\\n *', ',', ori_name)\n",
    "name = re.sub(r'^,*', '', name)\n",
    "name = re.sub(r',*$', '', name)\n",
    "name = re.sub(',,', ', ', name)\n",
    "name"
   ]
  },
  {
   "cell_type": "code",
   "execution_count": 48,
   "metadata": {},
   "outputs": [
    {
     "data": {
      "text/plain": [
       "'\\n\\n         Fatih Karahan    \\n\\n         Benjamin Pugsley    \\n\\n         Ayşegül Şahin    \\n'"
      ]
     },
     "execution_count": 48,
     "metadata": {},
     "output_type": "execute_result"
    }
   ],
   "source": [
    "ori_name"
   ]
  },
  {
   "cell_type": "code",
   "execution_count": null,
   "metadata": {},
   "outputs": [],
   "source": []
  }
 ],
 "metadata": {
  "kernelspec": {
   "display_name": "Python 3",
   "language": "python",
   "name": "python3"
  },
  "language_info": {
   "codemirror_mode": {
    "name": "ipython",
    "version": 3
   },
   "file_extension": ".py",
   "mimetype": "text/x-python",
   "name": "python",
   "nbconvert_exporter": "python",
   "pygments_lexer": "ipython3",
   "version": "3.12.3"
  }
 },
 "nbformat": 4,
 "nbformat_minor": 2
}
