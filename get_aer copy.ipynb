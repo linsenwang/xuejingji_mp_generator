{
 "cells": [
  {
   "cell_type": "code",
   "execution_count": 7,
   "metadata": {},
   "outputs": [],
   "source": [
    "import requests\n",
    "from bs4 import BeautifulSoup\n",
    "import re\n",
    "import time\n",
    "import gen_css\n",
    "import add_current\n",
    "import get_mp_tools"
   ]
  },
  {
   "cell_type": "code",
   "execution_count": 8,
   "metadata": {},
   "outputs": [],
   "source": [
    "journal_name = 'AER'\n",
    "journal_main_page_url = 'https://www.aeaweb.org/journals/aer'"
   ]
  },
  {
   "cell_type": "code",
   "execution_count": 9,
   "metadata": {},
   "outputs": [],
   "source": [
    "journal_main_page_data = get_mp_tools.get(journal_main_page_url)"
   ]
  },
  {
   "cell_type": "code",
   "execution_count": 10,
   "metadata": {},
   "outputs": [
    {
     "data": {
      "text/plain": [
       "'https://www.aeaweb.org/issues/764'"
      ]
     },
     "execution_count": 10,
     "metadata": {},
     "output_type": "execute_result"
    }
   ],
   "source": [
    "current_issue_url = journal_main_page_data.find(class_=\"current-issue-link\")\n",
    "current_issue_url = 'https://www.aeaweb.org' + current_issue_url.get('href')\n",
    "current_issue_url"
   ]
  },
  {
   "cell_type": "code",
   "execution_count": 11,
   "metadata": {},
   "outputs": [
    {
     "data": {
      "text/plain": [
       "'issues_764'"
      ]
     },
     "execution_count": 11,
     "metadata": {},
     "output_type": "execute_result"
    }
   ],
   "source": [
    "issue = re.search('iss.+',current_issue_url)[0]\n",
    "issue = re.sub(r\"/\", \"_\", issue)\n",
    "issue"
   ]
  },
  {
   "cell_type": "code",
   "execution_count": 12,
   "metadata": {},
   "outputs": [],
   "source": [
    "current_issue_data = get_mp_tools.get(current_issue_url)"
   ]
  },
  {
   "cell_type": "code",
   "execution_count": 13,
   "metadata": {},
   "outputs": [],
   "source": [
    "article_htmls = current_issue_data.find_all(class_='journal-article')"
   ]
  },
  {
   "cell_type": "code",
   "execution_count": 14,
   "metadata": {},
   "outputs": [
    {
     "data": {
      "text/plain": [
       "[('Front Matter',\n",
       "  '',\n",
       "  'Why have white, less-educated voters left the Democratic Party? We highlight the role of the 1994 North American Free Trade Agreement (NAFTA). In event-study analysis, we demonstrate that counties whose 1990 employment depended on industries vulnerable to NAFTA suffered large and persistent employment losses after its implementation. Voters in these counties (and protectionist voters regardless of geography) turned away from the party of President Clinton, who promoted the agreement. This shift is larger for whites (especially men and those without a college degree) and social conservatives, suggesting that racial identity and social-issue positions mediate reactions to economic policies.'),\n",
       " ('Nobel Lecture: An Evolving Economic Force',\n",
       "  'Claudia Goldin',\n",
       "  \"South Koreans appear to be preoccupied with their offspring's education and also have the lowest total fertility rate in the world. We propose a novel theory with status externalities and endogenous fertility connecting these facts, motivated by novel empirical evidence on private education spillovers. Using a quantitative model calibrated to Korea, we find that fertility would be 28 percent higher without the externality. We explore the effects of government policy: a pro-natal transfer or an education tax can increase fertility and reduce education spending. An education tax of 22 percent together with moderate pro-natal transfers maximizes the current generation's welfare.\"),\n",
       " ('Local Economic and Political Effects of Trade Deals: Evidence from NAFTA',\n",
       "  'Jiwon Choi, Ilyana Kuziemko, Ebonya Washington, Gavin Wright',\n",
       "  'We study robust welfare comparisons of learning biases (misspecified Bayesian and some forms of non-Bayesian updating). Given a true signal distribution, we deem one bias more harmful than another if it yields lower objective expected payoffs in all decision problems. We characterize this ranking in static and dynamic settings. While the static characterization compares posteriors signal by signal, the dynamic characterization employs an \"efficiency index\" measuring how fast beliefs converge. We quantify and compare the severity of several well-documented biases. We also highlight disagreements between the static and dynamic rankings, and that some \"large\" biases dynamically outperform other \"vanishingly small\" biases.'),\n",
       " ('Status Externalities in Education and Low Birth Rates in Korea',\n",
       "  'Seongeun Kim, Minchul Yum',\n",
       "  'We study a business cycle model of the international monetary system featuring a time varying demand for safe dollar bonds, greater risk-bearing capacity in the United States than the rest of the world, and nominal rigidities. A flight to safety generates a dollar appreciation and decline in global output. Dollar bonds thus command a negative risk premium, and the United States holds a levered portfolio of capital finances in dollars. We quantify the effects of safety shocks and heterogeneity in risk-bearing capacity for global macroeconomic volatility, US external adjustment, and policy transmission, as of dollar swap lines.'),\n",
       " ('Welfare Comparisons for Biased Learning',\n",
       "  'Mira Frick, Ryota Iijima, Yuhta Ishii',\n",
       "  'This paper identifies the impact of increasing post-childbirth work incentives on mothers\\' long-run careers. We exploit variation in work incentives across mothers based on the timing of a first birth and eligibility for the 1993 expansion of the Earned Income Tax Credit. Ten to nineteen years after a first birth, single mothers who were exposed to the expansion immediately after birth (\"early\"), rather than 3–6 years later (\"late\"), have 0.62 more years of work experience and 4.2 percent higher earnings conditional on working. We show that higher earnings are primarily explained by improved wages due to greater work experience.'),\n",
       " ('The Flight to Safety and International Risk Sharing',\n",
       "  'Rohan Kekre, Moritz Lenel',\n",
       "  'We develop a task-based model of occupational sorting to identify and quantify the effect of discrimination, racial skill gaps, and aggregate task prices on Black-White differences in labor market outcomes over time. At the heart of our framework is the idea that the size and nature of racial barriers faced by Black workers vary by the task requirements of each job. We define a new task that measures the extent to which individuals interact with others as part of their job. We show that this measure is a good proxy for the extent of discrimination in the economy.'),\n",
       " ('Long-Run Effects of Incentivizing Work after Childbirth',\n",
       "  'Elira Kuka, ama Shenhav',\n",
       "  'What are the implications of the dramatic fall in IT prices for aggregate technology? When firm-level technologies are continuously differentiable, a factor price shock leads to (i) a substitution between factors and/or (ii) an endogenous response of returns to scale. The second channel is governed by the output elasticity of relative factor demand. Using detailed firm-level data from France, we estimate this elasticity to be positive for IT factor demand. A quantitative exercise accounting for both technological channels shows that falling IT prices can explain much of the changes in concentration and the composition of aggregate labor share in France.'),\n",
       " ('Task-Based Discrimination',\n",
       "  'Erik Hurst, Yona Rubinstein, Kazuatsu Shimizu',\n",
       "  \"I investigate men's limited entry into female-dominated sectors through a large-scale field experiment. The design exogenously varies recruitment messages by showing photographs of current workers (male or female) and providing information on the share of workers who received high evaluations in the past (higher or lower). A male photograph has no impact on men's applications, but informing about a lower share of high evaluations encourages men to apply and enables the employer to hire and retain more talented men. The impact of this informational intervention remains positive for the employer also accounting for its effects on female applicants and hires.\"),\n",
       " ('Information Technology and Returns to Scale',\n",
       "  'Danial Lashkari, Arthur Bauer, Jocelyn Boussard',\n",
       "  'We assess the employment and income effects of access to credit dedicated to investment in individual mobility by exploiting time-series variation in access to credit through lotteries for participants in a group-lending mechanism in Brazil. We find that access to credit for investment in individual mobility increases formal employment rates and salaries, yielding an annual rate of return of 12 to 15 percent. Consistent with a geographically broader job search, individuals transition to jobs farther from home and public transportation. Our results suggest that accessing distant labor markets through credit for investment in individual mobility yields high and persistent returns.')]"
      ]
     },
     "execution_count": 14,
     "metadata": {},
     "output_type": "execute_result"
    }
   ],
   "source": [
    "titles = []\n",
    "names = []\n",
    "abstracts = []\n",
    "\n",
    "for article_link in article_htmls:\n",
    "    try:\n",
    "        article_link = 'https://www.aeaweb.org' + article_link.find('a').get('href')\n",
    "        article_data = get_mp_tools.get(article_link)\n",
    "        \n",
    "        titles.append(article_data.find(class_='title').text)\n",
    "\n",
    "        name = article_data.find(class_='attribution').text\n",
    "        name = re.findall(r'\\b[A-Za-z]+(?:\\s[A-Za-z]+)+\\b', name)\n",
    "        name = ', '.join(name)\n",
    "        names.append(name)\n",
    "        \n",
    "        abstract = article_data.find(class_='abstract').text\n",
    "        abstract = cleaned_text = re.sub(r\"Abstract|\\t|\\n\", \"\", abstract)\n",
    "        abstracts.append(abstract)\n",
    "    except:\n",
    "        pass\n",
    "    \n",
    "article = [*zip(titles, names, abstracts)]\n",
    "article"
   ]
  },
  {
   "cell_type": "code",
   "execution_count": 16,
   "metadata": {},
   "outputs": [],
   "source": [
    "with open('aer/AER_' + issue + '.html','w',encoding='UTF-8') as f:\n",
    "    f.write(gen_css.gen_content_from_list(titles))\n",
    "    f.write(gen_css.gen_abstract_list(list(article)))\n",
    "add_current.add('AER_' + issue, time.ctime(), 'aer/AER_' + issue + '.html')"
   ]
  }
 ],
 "metadata": {
  "kernelspec": {
   "display_name": "Python 3",
   "language": "python",
   "name": "python3"
  },
  "language_info": {
   "codemirror_mode": {
    "name": "ipython",
    "version": 3
   },
   "file_extension": ".py",
   "mimetype": "text/x-python",
   "name": "python",
   "nbconvert_exporter": "python",
   "pygments_lexer": "ipython3",
   "version": "3.12.3"
  }
 },
 "nbformat": 4,
 "nbformat_minor": 2
}
