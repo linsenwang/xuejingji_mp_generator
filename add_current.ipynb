{
 "cells": [
  {
   "cell_type": "code",
   "execution_count": 1,
   "metadata": {},
   "outputs": [],
   "source": [
    "from bs4 import BeautifulSoup"
   ]
  },
  {
   "cell_type": "code",
   "execution_count": 12,
   "metadata": {},
   "outputs": [],
   "source": [
    "def html_add(html_content, name, date, link):\n",
    "    # 解析HTML\n",
    "    soup = BeautifulSoup(html_content, 'html.parser')\n",
    "\n",
    "    # 创建新的item\n",
    "    new_item = soup.new_tag('div', **{'class': 'item'})\n",
    "    new_value_name = soup.new_tag('div', **{'class': 'value'})\n",
    "    new_value_name.string = name\n",
    "    new_value_date = soup.new_tag('div', **{'class': 'value'})\n",
    "    new_value_date.string = date\n",
    "    new_value_link = soup.new_tag('div', **{'class': 'value'})\n",
    "    new_value_link.string = link\n",
    "\n",
    "    new_item.append(new_value_name)\n",
    "    new_item.append(new_value_date)\n",
    "    new_item.append(new_value_link)\n",
    "\n",
    "    # 将新的item插入body的最开头\n",
    "    soup.main.insert(0, new_item)\n",
    "\n",
    "    return soup.prettify()\n"
   ]
  },
  {
   "cell_type": "code",
   "execution_count": 18,
   "metadata": {},
   "outputs": [],
   "source": [
    "def add(name, date, link):\n",
    "    with open('index.html', 'r') as f:\n",
    "        html = html_add(f, name, date, link)\n",
    "    with open(\"index.html\", \"w\", encoding=\"utf-8\") as file:\n",
    "        file.write(html)"
   ]
  }
 ],
 "metadata": {
  "kernelspec": {
   "display_name": "Python 3",
   "language": "python",
   "name": "python3"
  },
  "language_info": {
   "codemirror_mode": {
    "name": "ipython",
    "version": 3
   },
   "file_extension": ".py",
   "mimetype": "text/x-python",
   "name": "python",
   "nbconvert_exporter": "python",
   "pygments_lexer": "ipython3",
   "version": "3.12.3"
  }
 },
 "nbformat": 4,
 "nbformat_minor": 2
}
