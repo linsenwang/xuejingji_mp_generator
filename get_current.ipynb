{
 "cells": [
  {
   "cell_type": "code",
   "execution_count": 4,
   "metadata": {},
   "outputs": [],
   "source": [
    "import requests\n",
    "from bs4 import BeautifulSoup\n",
    "import re\n",
    "import time\n",
    "import add_current"
   ]
  },
  {
   "cell_type": "code",
   "execution_count": 5,
   "metadata": {},
   "outputs": [],
   "source": [
    "ori_data = requests.get('https://www.econometricsociety.org/publications/econometrica')"
   ]
  },
  {
   "cell_type": "code",
   "execution_count": 6,
   "metadata": {},
   "outputs": [],
   "source": [
    "data = BeautifulSoup(ori_data.text, 'html.parser')"
   ]
  },
  {
   "cell_type": "code",
   "execution_count": 10,
   "metadata": {},
   "outputs": [
    {
     "data": {
      "text/plain": [
       "'Volume 92, Issue 3'"
      ]
     },
     "execution_count": 10,
     "metadata": {},
     "output_type": "execute_result"
    }
   ],
   "source": [
    "current_name = data.find(string=re.compile('Latest Issue'))\n",
    "current_name[14:32]"
   ]
  },
  {
   "cell_type": "code",
   "execution_count": 67,
   "metadata": {},
   "outputs": [],
   "source": [
    "with open('current_log.txt', 'a') as f:\n",
    "    f.write(current_name + str(time.ctime()) + '\\n')"
   ]
  },
  {
   "cell_type": "code",
   "execution_count": 68,
   "metadata": {},
   "outputs": [],
   "source": [
    "with open('current_log.txt', 'r') as f:\n",
    "    log = f.read()"
   ]
  },
  {
   "cell_type": "code",
   "execution_count": 70,
   "metadata": {},
   "outputs": [
    {
     "data": {
      "text/plain": [
       "['Latest Issue: Volume 92, Issue 3 (May 2024)Wed Jun 19 21:44:18 2024',\n",
       " 'Latest Issue: Volume 92, Issue 3 (May 2024)Wed Jun 19 21:44:21 2024',\n",
       " '']"
      ]
     },
     "execution_count": 70,
     "metadata": {},
     "output_type": "execute_result"
    }
   ],
   "source": [
    "log_list = log.split('\\n')\n",
    "log_list"
   ]
  },
  {
   "cell_type": "code",
   "execution_count": 115,
   "metadata": {},
   "outputs": [
    {
     "name": "stdout",
     "output_type": "stream",
     "text": [
      "nothing\n"
     ]
    }
   ],
   "source": [
    "if log_list[-2][:40] == log_list[-2][:40]:\n",
    "    print('nothing')\n",
    "else:\n",
    "    pass"
   ]
  },
  {
   "cell_type": "code",
   "execution_count": 125,
   "metadata": {},
   "outputs": [],
   "source": [
    "article = data.find_all(class_='article')"
   ]
  },
  {
   "cell_type": "code",
   "execution_count": 137,
   "metadata": {},
   "outputs": [
    {
     "name": "stdout",
     "output_type": "stream",
     "text": [
      "Certification Design with Common Values <p>Andreas Asseyer, Ran Weksler<br/><span class=\"small\">p. 651-686</span><br/></p>\n"
     ]
    }
   ],
   "source": [
    "title = []\n",
    "authors = []\n",
    "ab_links = []\n",
    "for i in article:\n",
    "    title.append(i.contents[1].text)\n",
    "    authors.append(i.contents[3])\n",
    "    try:\n",
    "        ab_links.append(i.find(string=re.compile('Abstract')).parent.get('href'))\n",
    "    except:\n",
    "        ab_links.append('no_ab')"
   ]
  },
  {
   "cell_type": "code",
   "execution_count": 139,
   "metadata": {},
   "outputs": [
    {
     "data": {
      "text/plain": [
       "['Shubhdeep Deb, Jan Eeckhout, Aseem Patel, Lawrence Warren',\n",
       " 'Giovanni L. Violante',\n",
       " 'John Van Reenen',\n",
       " 'Shubhdeep Deb, Jan Eeckhout, Aseem Patel, Lawrence Warren',\n",
       " 'Andreas Asseyer, Ran Weksler',\n",
       " 'Claudia Noack, Christoph Rothe',\n",
       " 'Benjamin Collier, Cameron Ellis',\n",
       " 'YingHua He, Shruti Sinha, Xiaoting Sun',\n",
       " 'Stephen Morris, Daisuke Oyama, Satoru Takahashi',\n",
       " 'Felix Zhiyu Feng, Curtis R. Taylor, Mark M. Westerfield, Feifan Zhang',\n",
       " 'Tom Ahn, Peter Arcidiacono, Amy Hopson, James Thomas',\n",
       " 'Zach Y. Brown, Jihye Jeon',\n",
       " 'Benedikt M. Pötscher, David Preinerstorfer',\n",
       " 'Bruce E. Hansen']"
      ]
     },
     "execution_count": 139,
     "metadata": {},
     "output_type": "execute_result"
    }
   ],
   "source": [
    "author = []\n",
    "for i in authors:\n",
    "    for child in i.children:\n",
    "        if child.name is None:\n",
    "            author.append(child)\n",
    "        elif child.name == 'br':\n",
    "            pass"
   ]
  },
  {
   "cell_type": "code",
   "execution_count": 123,
   "metadata": {},
   "outputs": [
    {
     "data": {
      "text/plain": [
       "['no_ab',\n",
       " 'We propose a theory of how market power affects wage inequality. We ask how goods and labor market power jointly determine the level of wages, the skill premium, and wage inequality. We then use detailed microdata from the U.S. Census Bureau between 1997 and 2016 to estimate the parameters of labor supply, technology, and the market structure. We find that a less competitive market structure lowers the average wage of high‐skilled workers by 11.3%, and of low‐skilled workers by 12.2%, contributes 8.1% to the rise in the skill premium, and accounts for 54.8% of the increase in between‐establishment wage variance.',\n",
       " 'We propose a theory of how market power affects wage inequality. We ask how goods and labor market power jointly determine the level of wages, the skill premium, and wage inequality. We then use detailed microdata from the U.S. Census Bureau between 1997 and 2016 to estimate the parameters of labor supply, technology, and the market structure. We find that a less competitive market structure lowers the average wage of high‐skilled workers by 11.3%, and of low‐skilled workers by 12.2%, contributes 8.1% to the rise in the skill premium, and accounts for 54.8% of the increase in between‐establishment wage variance.',\n",
       " 'no_ab',\n",
       " 'We propose a theory of how market power affects wage inequality. We ask how goods and labor market power jointly determine the level of wages, the skill premium, and wage inequality. We then use detailed microdata from the U.S. Census Bureau between 1997 and 2016 to estimate the parameters of labor supply, technology, and the market structure. We find that a less competitive market structure lowers the average wage of high‐skilled workers by 11.3%, and of low‐skilled workers by 12.2%, contributes 8.1% to the rise in the skill premium, and accounts for 54.8% of the increase in between‐establishment wage variance.',\n",
       " 'A burgeoning literature in labor economics is focused on modeling employer labor market power, generally finding nontrivial estimates of monopsony power. A smaller literature also simultaneously incorporates product market power. Deb, Eeckhout, Patel, and Warren (2024) is an example of applying an oligopoly‐oligopsony model to the U.S. labor market, arguing for important effects on wage levels and inequality from rising market power. I support combining IO and labor as a fruitful way of studying wages and business dynamism, but argue for looking more broadly at (i) differential degrees of employer power in labor and product markets; (ii) investigating the dynamic sources of markups (e.g., through innovation), and (iii) considering wage bargaining models, not just wage posting models, which have some starkly different implications for wage setting.',\n",
       " 'no_ab',\n",
       " 'A burgeoning literature in labor economics is focused on modeling employer labor market power, generally finding nontrivial estimates of monopsony power. A smaller literature also simultaneously incorporates product market power. Deb, Eeckhout, Patel, and Warren (2024) is an example of applying an oligopoly‐oligopsony model to the U.S. labor market, arguing for important effects on wage levels and inequality from rising market power. I support combining IO and labor as a fruitful way of studying wages and business dynamism, but argue for looking more broadly at (i) differential degrees of employer power in labor and product markets; (ii) investigating the dynamic sources of markups (e.g., through innovation), and (iii) considering wage bargaining models, not just wage posting models, which have some starkly different implications for wage setting.',\n",
       " \"This paper studies certification design and its implications for information disclosure. Our model features a profit‐maximizing certifier and the seller of a good of unknown quality. We allow for common values as the seller's opportunity cost may depend on the quality of the good. We compare certifier‐optimal with transparency‐maximizing certification design. Certifier‐optimal certification design implements the evidence structure of Dye (1985)—a fraction of sellers acquire information while the remaining sellers are uninformed—and results in partial disclosure to the market. A transparency‐maximizing regulator prefers a less precise signal, which conveys more information to the market through a higher rate of certification and unraveling (Grossman (1981), Milgrom (1981)) at the disclosure stage.\",\n",
       " 'We propose new confidence sets (CSs) for the regression discontinuity parameter in fuzzy designs. Our CSs are based on local linear regression, and are bias‐aware, in the sense that they take possible bias explicitly into account. Their construction shares similarities with that of Anderson–Rubin CSs in exactly identified instrumental variable models, and thereby avoids issues with “delta method” approximations that underlie most commonly used existing inference methods for fuzzy regression discontinuity analysis. Our CSs are asymptotically equivalent to existing procedures in canonical settings with strong identification and a continuous running variable. However, they are also valid under a wide range of other empirically relevant conditions, such as setups with discrete running variables, donut designs, and weak identification.',\n",
       " \"We estimate and trace a credit demand curve for households that recently experienced damage to their homes from a natural disaster. Our administrative data include over one million applicants to a federal recovery loan program for households. We estimate extensive‐margin demand over a large range of interest rates. Our identification strategy exploits 24 natural experiments, leveraging exogenous, time‐based variation in the program's offered interest rate. Interest rates meaningfully affect consumer demand throughout the distribution of rates. On average, a 1 percentage point increase in the interest rate reduces loan take‐up by 26%. We find a large impact of applicants' credit quality on demand and evidence of monthly payment targeting. Using our estimated demand curve and information on program costs, we find that the program generates an average social surplus of $2900 per borrower.\",\n",
       " 'In a setting of many‐to‐one two‐sided matching with nontransferable utilities, for example, college admissions, we study conditions under which preferences of both sides are identified with data on one single market. Regardless of whether the market is centralized or decentralized, assuming that the observed matching is stable, we show nonparametric identification of preferences of both sides under certain exclusion restrictions. To take our results to the data, we use Monte Carlo simulations to evaluate different estimators, including the ones that are directly constructed from the identification. We find that a parametric Bayesian approach with a Gibbs sampler works well in realistically sized problems. Finally, we illustrate our methodology in decentralized admissions to public and private schools in Chile and conduct a counterfactual analysis of an affirmative action policy.',\n",
       " \"What outcomes can be implemented by the choice of an information structure in binary‐action supermodular games? An outcome is partially implementable if it satisfies obedience (Bergemann and Morris (2016)). We characterize when an outcome is smallest equilibrium implementable (induced by the smallest equilibrium). Smallest equilibrium implementation requires a stronger sequential obedience condition: there is a stochastic ordering of players under which players are prepared to switch to the high action even if they think only those before them will switch. We then characterize the optimal outcome induced by an information designer who prefers the high action to be played, but anticipates that the worst (hence smallest) equilibrium will be played. In a potential game, under convexity assumptions on the potential and the designer's objective, it is optimal to choose an outcome where actions are perfectly coordinated (all players choose the same action), with the high action profile played on the largest event where that action profile maximizes the average potential.\",\n",
       " 'We investigate optimal project management in a setting plagued by an indefinite number of setbacks that are discovered en route to project completion. The contractor can cover up delays in progress due to shirking either by making false claims of setbacks or by postponing the reports of real ones. The sponsor optimally induces work and honest reporting via a soft deadline and a reward for completion that specifies a bonus for early delivery. Late‐stage setbacks trigger randomization between minimally feasible project extension and (inefficient) cancellation. Because extensions may be granted repeatedly, arbitrarily large overruns in schedule and budget are possible after which the project may still be canceled.',\n",
       " 'We show that stricter grading policies in STEM courses reduce STEM enrollment, especially for women. We estimate a model of student demand for courses and optimal effort choices given professor grading policies. Grading policies are treated as equilibrium objects that in part depend on student demand for courses. Differences in demand for STEM and non‐STEM courses explain much of why STEM classes give lower grades. Restrictions on grading policies that equalize average grades across classes reduce the STEM gender gap and increase overall enrollment in STEM classes.',\n",
       " 'In markets with complicated products, individuals may choose how much time and effort to spend understanding and comparing alternatives. Focusing on insurance choice, we find evidence consistent with individuals acquiring more information when there are larger consequences from making an uninformed choice. Building on the rational inattention literature, we develop and estimate a parsimonious demand model in which individuals choose how much to research difficult‐to‐observe characteristics. We use our estimates to evaluate policies that simplify choice. Reducing the number of plans can raise welfare through improved choice as well as savings in information costs. Capping out‐of‐pocket costs generates larger welfare gains than standard models. The empirical model can be applied to other settings to examine the regulation of complex products.',\n",
       " 'We show that Theorem 4 in Hansen (2022) applies to exactly the same class of estimators as does the classical Aitken theorem. We furthermore point out that Theorems 5–7 in Hansen (2022) contain extra assumptions not present in the classical Gauss–Markov or Aitken theorem, and thus the former theorems do not contain the latter ones as special cases.',\n",
       " 'This note makes a brief response to Portnoy (2022) and Pötscher and Preinerstorfer (2024), and discusses what instructors should teach about best unbiased estimation.',\n",
       " 'no_ab',\n",
       " 'This note makes a brief response to Portnoy (2022) and Pötscher and Preinerstorfer (2024), and discusses what instructors should teach about best unbiased estimation.',\n",
       " 'no_ab',\n",
       " 'This note makes a brief response to Portnoy (2022) and Pötscher and Preinerstorfer (2024), and discusses what instructors should teach about best unbiased estimation.',\n",
       " 'no_ab',\n",
       " 'This note makes a brief response to Portnoy (2022) and Pötscher and Preinerstorfer (2024), and discusses what instructors should teach about best unbiased estimation.']"
      ]
     },
     "execution_count": 123,
     "metadata": {},
     "output_type": "execute_result"
    }
   ],
   "source": [
    "abstract = []\n",
    "for ab_link in ab_links:\n",
    "    if ab_link == 'no_ab':\n",
    "        abstract.append('no_ab')\n",
    "    else:\n",
    "        abstract_page = requests.get('https://www.econometricsociety.org' + ab_link)\n",
    "    ab_data = BeautifulSoup(abstract_page.text, 'html.parser')\n",
    "    abstract.append(ab_data.find(class_='abstract').text)"
   ]
  },
  {
   "cell_type": "code",
   "execution_count": 140,
   "metadata": {},
   "outputs": [
    {
     "data": {
      "text/plain": [
       "[('Frontmatter of Econometrica Vol. 92 Iss. 3',\n",
       "  'Shubhdeep Deb, Jan Eeckhout, Aseem Patel, Lawrence Warren',\n",
       "  'no_ab'),\n",
       " ('Walras–Bowley Lecture: Market Power and Wage Inequality',\n",
       "  'Giovanni L. Violante',\n",
       "  'We propose a theory of how market power affects wage inequality. We ask how goods and labor market power jointly determine the level of wages, the skill premium, and wage inequality. We then use detailed microdata from the U.S. Census Bureau between 1997 and 2016 to estimate the parameters of labor supply, technology, and the market structure. We find that a less competitive market structure lowers the average wage of high‐skilled workers by 11.3%, and of low‐skilled workers by 12.2%, contributes 8.1% to the rise in the skill premium, and accounts for 54.8% of the increase in between‐establishment wage variance.'),\n",
       " ('A Comment on: “Walras–Bowley Lecture: Market Power and Wage Inequality” by Shubhdeep Deb, Jan Eeckhout, Aseem Patel, and Lawrence Warren',\n",
       "  'John Van Reenen',\n",
       "  'We propose a theory of how market power affects wage inequality. We ask how goods and labor market power jointly determine the level of wages, the skill premium, and wage inequality. We then use detailed microdata from the U.S. Census Bureau between 1997 and 2016 to estimate the parameters of labor supply, technology, and the market structure. We find that a less competitive market structure lowers the average wage of high‐skilled workers by 11.3%, and of low‐skilled workers by 12.2%, contributes 8.1% to the rise in the skill premium, and accounts for 54.8% of the increase in between‐establishment wage variance.'),\n",
       " ('A Comment on: “Walras–Bowley Lecture: Market Power and Wage Inequality” by Shubhdeep Deb, Jan Eeckhout, Aseem Patel, and Lawrence Warren',\n",
       "  'Shubhdeep Deb, Jan Eeckhout, Aseem Patel, Lawrence Warren',\n",
       "  'no_ab'),\n",
       " ('Reply to: Comments on “Walras–Bowley Lecture: Market Power and Wage Inequality”',\n",
       "  'Andreas Asseyer, Ran Weksler',\n",
       "  'We propose a theory of how market power affects wage inequality. We ask how goods and labor market power jointly determine the level of wages, the skill premium, and wage inequality. We then use detailed microdata from the U.S. Census Bureau between 1997 and 2016 to estimate the parameters of labor supply, technology, and the market structure. We find that a less competitive market structure lowers the average wage of high‐skilled workers by 11.3%, and of low‐skilled workers by 12.2%, contributes 8.1% to the rise in the skill premium, and accounts for 54.8% of the increase in between‐establishment wage variance.'),\n",
       " ('Certification Design with Common Values',\n",
       "  'Claudia Noack, Christoph Rothe',\n",
       "  'A burgeoning literature in labor economics is focused on modeling employer labor market power, generally finding nontrivial estimates of monopsony power. A smaller literature also simultaneously incorporates product market power. Deb, Eeckhout, Patel, and Warren (2024) is an example of applying an oligopoly‐oligopsony model to the U.S. labor market, arguing for important effects on wage levels and inequality from rising market power. I support combining IO and labor as a fruitful way of studying wages and business dynamism, but argue for looking more broadly at (i) differential degrees of employer power in labor and product markets; (ii) investigating the dynamic sources of markups (e.g., through innovation), and (iii) considering wage bargaining models, not just wage posting models, which have some starkly different implications for wage setting.'),\n",
       " ('Bias-Aware Inference in Fuzzy Regression Discontinuity Designs',\n",
       "  'Benjamin Collier, Cameron Ellis',\n",
       "  'no_ab'),\n",
       " ('A Demand Curve for Disaster Recovery Loans',\n",
       "  'YingHua He, Shruti Sinha, Xiaoting Sun',\n",
       "  'A burgeoning literature in labor economics is focused on modeling employer labor market power, generally finding nontrivial estimates of monopsony power. A smaller literature also simultaneously incorporates product market power. Deb, Eeckhout, Patel, and Warren (2024) is an example of applying an oligopoly‐oligopsony model to the U.S. labor market, arguing for important effects on wage levels and inequality from rising market power. I support combining IO and labor as a fruitful way of studying wages and business dynamism, but argue for looking more broadly at (i) differential degrees of employer power in labor and product markets; (ii) investigating the dynamic sources of markups (e.g., through innovation), and (iii) considering wage bargaining models, not just wage posting models, which have some starkly different implications for wage setting.'),\n",
       " ('Identification and Estimation in Many-to-one Two-sided Matching without Transfers',\n",
       "  'Stephen Morris, Daisuke Oyama, Satoru Takahashi',\n",
       "  \"This paper studies certification design and its implications for information disclosure. Our model features a profit‐maximizing certifier and the seller of a good of unknown quality. We allow for common values as the seller's opportunity cost may depend on the quality of the good. We compare certifier‐optimal with transparency‐maximizing certification design. Certifier‐optimal certification design implements the evidence structure of Dye (1985)—a fraction of sellers acquire information while the remaining sellers are uninformed—and results in partial disclosure to the market. A transparency‐maximizing regulator prefers a less precise signal, which conveys more information to the market through a higher rate of certification and unraveling (Grossman (1981), Milgrom (1981)) at the disclosure stage.\"),\n",
       " ('Implementation via Information Design in Binary-Action Supermodular Games',\n",
       "  'Felix Zhiyu Feng, Curtis R. Taylor, Mark M. Westerfield, Feifan Zhang',\n",
       "  'We propose new confidence sets (CSs) for the regression discontinuity parameter in fuzzy designs. Our CSs are based on local linear regression, and are bias‐aware, in the sense that they take possible bias explicitly into account. Their construction shares similarities with that of Anderson–Rubin CSs in exactly identified instrumental variable models, and thereby avoids issues with “delta method” approximations that underlie most commonly used existing inference methods for fuzzy regression discontinuity analysis. Our CSs are asymptotically equivalent to existing procedures in canonical settings with strong identification and a continuous running variable. However, they are also valid under a wide range of other empirically relevant conditions, such as setups with discrete running variables, donut designs, and weak identification.'),\n",
       " ('Setbacks, Shutdowns, and Overruns',\n",
       "  'Tom Ahn, Peter Arcidiacono, Amy Hopson, James Thomas',\n",
       "  \"We estimate and trace a credit demand curve for households that recently experienced damage to their homes from a natural disaster. Our administrative data include over one million applicants to a federal recovery loan program for households. We estimate extensive‐margin demand over a large range of interest rates. Our identification strategy exploits 24 natural experiments, leveraging exogenous, time‐based variation in the program's offered interest rate. Interest rates meaningfully affect consumer demand throughout the distribution of rates. On average, a 1 percentage point increase in the interest rate reduces loan take‐up by 26%. We find a large impact of applicants' credit quality on demand and evidence of monthly payment targeting. Using our estimated demand curve and information on program costs, we find that the program generates an average social surplus of $2900 per borrower.\"),\n",
       " ('Equilibrium Grading Policies with Implications for Female Interest in STEM Courses',\n",
       "  'Zach Y. Brown, Jihye Jeon',\n",
       "  'In a setting of many‐to‐one two‐sided matching with nontransferable utilities, for example, college admissions, we study conditions under which preferences of both sides are identified with data on one single market. Regardless of whether the market is centralized or decentralized, assuming that the observed matching is stable, we show nonparametric identification of preferences of both sides under certain exclusion restrictions. To take our results to the data, we use Monte Carlo simulations to evaluate different estimators, including the ones that are directly constructed from the identification. We find that a parametric Bayesian approach with a Gibbs sampler works well in realistically sized problems. Finally, we illustrate our methodology in decentralized admissions to public and private schools in Chile and conduct a counterfactual analysis of an affirmative action policy.'),\n",
       " ('Endogenous Information and Simplifying Insurance Choice',\n",
       "  'Benedikt M. Pötscher, David Preinerstorfer',\n",
       "  \"What outcomes can be implemented by the choice of an information structure in binary‐action supermodular games? An outcome is partially implementable if it satisfies obedience (Bergemann and Morris (2016)). We characterize when an outcome is smallest equilibrium implementable (induced by the smallest equilibrium). Smallest equilibrium implementation requires a stronger sequential obedience condition: there is a stochastic ordering of players under which players are prepared to switch to the high action even if they think only those before them will switch. We then characterize the optimal outcome induced by an information designer who prefers the high action to be played, but anticipates that the worst (hence smallest) equilibrium will be played. In a potential game, under convexity assumptions on the potential and the designer's objective, it is optimal to choose an outcome where actions are perfectly coordinated (all players choose the same action), with the high action profile played on the largest event where that action profile maximizes the average potential.\"),\n",
       " ('A Comment on: “A Modern Gauss–Markov Theorem”',\n",
       "  'Bruce E. Hansen',\n",
       "  'We investigate optimal project management in a setting plagued by an indefinite number of setbacks that are discovered en route to project completion. The contractor can cover up delays in progress due to shirking either by making false claims of setbacks or by postponing the reports of real ones. The sponsor optimally induces work and honest reporting via a soft deadline and a reward for completion that specifies a bonus for early delivery. Late‐stage setbacks trigger randomization between minimally feasible project extension and (inefficient) cancellation. Because extensions may be granted repeatedly, arbitrarily large overruns in schedule and budget are possible after which the project may still be canceled.')]"
      ]
     },
     "execution_count": 140,
     "metadata": {},
     "output_type": "execute_result"
    }
   ],
   "source": [
    "articles = [*zip(title, author, abstract)]\n",
    "articles"
   ]
  },
  {
   "cell_type": "code",
   "execution_count": null,
   "metadata": {},
   "outputs": [],
   "source": []
  }
 ],
 "metadata": {
  "kernelspec": {
   "display_name": "Python 3",
   "language": "python",
   "name": "python3"
  },
  "language_info": {
   "codemirror_mode": {
    "name": "ipython",
    "version": 3
   },
   "file_extension": ".py",
   "mimetype": "text/x-python",
   "name": "python",
   "nbconvert_exporter": "python",
   "pygments_lexer": "ipython3",
   "version": "3.12.3"
  }
 },
 "nbformat": 4,
 "nbformat_minor": 2
}
