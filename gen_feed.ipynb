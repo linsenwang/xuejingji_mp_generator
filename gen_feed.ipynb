{
 "cells": [
  {
   "cell_type": "code",
   "execution_count": 1,
   "metadata": {},
   "outputs": [],
   "source": [
    "from feedgen.feed import FeedGenerator\n",
    "from bs4 import BeautifulSoup\n",
    "import re"
   ]
  },
  {
   "cell_type": "code",
   "execution_count": 2,
   "metadata": {},
   "outputs": [],
   "source": [
    "with open('index.html', 'r') as f:\n",
    "    index_html = f.read()\n",
    "soup = BeautifulSoup(index_html, 'html.parser')"
   ]
  },
  {
   "cell_type": "code",
   "execution_count": 3,
   "metadata": {},
   "outputs": [],
   "source": [
    "href = soup.find_all('a')"
   ]
  },
  {
   "cell_type": "code",
   "execution_count": 4,
   "metadata": {},
   "outputs": [
    {
     "data": {
      "text/plain": [
       "'Description of your podcast'"
      ]
     },
     "execution_count": 4,
     "metadata": {},
     "output_type": "execute_result"
    }
   ],
   "source": [
    "fg = FeedGenerator()\n",
    "fg.link(href='https://www.econdiy.wiki/')\n",
    "fg.title('Some Testfeed')\n",
    "fg.description('Description of your podcast')"
   ]
  },
  {
   "cell_type": "code",
   "execution_count": 5,
   "metadata": {},
   "outputs": [
    {
     "data": {
      "text/plain": [
       "['jle/JLE_CN_Vol 42, No 3.html',\n",
       " 'jle/JLE_CN_Vol 42, No 3.html',\n",
       " 'jle/JLE_Vol 42, No 3.html',\n",
       " 'jpe/JPE_CN_issues_764.html',\n",
       " 'jpe/JPE_CN_issues_764.html',\n",
       " 'aer/AER_issues_764.html',\n",
       " 'jpe/JPE_CN_Volume 132, Number 6.html',\n",
       " 'jpe/JPE_Volume 132, Number 6.html',\n",
       " 'jpe/JPE_CN_Volume 132, Number 6.html',\n",
       " 'jpe/JPE_CN_Volume 132, Number 6.html']"
      ]
     },
     "execution_count": 5,
     "metadata": {},
     "output_type": "execute_result"
    }
   ],
   "source": [
    "files = []\n",
    "for i in href[0:10]:\n",
    "    files.append(re.sub('.html', '', i.get('href')))\n",
    "files\n",
    "files_ori = []\n",
    "for i in href[0:10]:\n",
    "    files_ori.append(i.get('href'))\n",
    "files_ori"
   ]
  },
  {
   "cell_type": "code",
   "execution_count": 6,
   "metadata": {},
   "outputs": [
    {
     "data": {
      "text/plain": [
       "'输 求职要求对家庭福利收入的影响   租金分摊的下降   谁能从有效的高中学习中受益？   学校表现、分数膨胀与社区发展   收入对税收的反应速度与企业劳动力需求的作用   行业结构、当地劳动力市场和贸易冲击的发生率   队列规模与婚姻市场：解释美国结婚率近一个世纪的变化       01         求职要求对家庭福利收入的影响         作者 |     Marc K. ChanNicolas HéraultHa VuRoger Wilkins    摘要 |\\xa0          许多国家对失业救济金领取者提出求职要求。现有的研究主要集中在需求的增量变化对接受者的影响上。1995年澳大利亚的改革使合作福利领取者群体新受到求职要求的约束，使我们能够对引入此类要求对家庭福利领取的影响进行因果估计。使用准实验设计和行政数据，我们发现改革所针对的成年伴侣妇女的福利待遇受到了巨大的负面影响，而她们的伴侣的福利待遇也受到了类似的影响，这表明家庭劳动力供应决策受到了相当大的影响。         02         租金分摊的下降         作者 |     Brian BellPaweł BukowskiStephen Machin    摘要 |\\xa0          研究了租金分摊的演变过程。该论文基于一个由35年来前300家公开上市的英国公司组成的小组，并利用超额的股票市场回报作为经济租金的工具，报告了从租金到工资的传递随着时间的推移显著下降的证据。它证实，工资确实对企业层面的经济租金冲击做出了反应，但在2000年之后的反应明显低于20世纪80年代和90年代。美国和欧盟的替代工具和行业层面的分析证实了下降的有力证据。         03         谁能从有效的高中学习中受益？         作者 |     C. Kirabo JacksonSebastián KiguelShanette C. PorterJohn Q. Easton    摘要 |\\xa0          我们估计了上一所有效的高中（这所高中提高了九年级的考试成绩、社会情绪发展调查指标和行为的组合）对教育优势较大和较差的学生的长期影响。所有学生都能从有效的学校中受益，但最弱势的学生在高中毕业、上大学和学校逮捕方面都有更大的进步。考试成绩增值低估了有效学校的长期重要性，尤其是对弱势群体而言。模式表明，这可能在一定程度上反映出优势较差的学生对学校质量的非测试分数维度相对更敏感。         04         学校表现、分数膨胀与社区发展         作者 |     Erich BattistinLorenzo Neri    摘要 |\\xa0          我们表明，分数通胀会产生围绕家庭期望的更好学校的住宅分类，这会对社区的经济地理产生长期影响。我们以英国的小学考试为例，自20世纪90年代中期以来，英国的评分标准引发了国家成绩表指标的膨胀。由于分数膨胀人为地标志着学校的改善，当地社区被绅士化了。学校之间的竞争加剧，使学校的质量得到了真正的提高。分数膨胀对房价、贫困和当地经济活动的影响直到今天都是可以识别的。         05         收入对税收的反应速度与企业劳动力需求的作用         作者 |     Matthew GudgeonSimon Trenkle    摘要 |\\xa0          本文研究了工人税前收入对密集边际税收变化的反应速度。我们这样做是在德国的背景下进行的，在德国，税收计划的大幅削减会导致收入分配的急剧集中。我们分析了两项政策改革对收入的反应，这两项改革将收入水平向外转移，并发现了明确的证据表明，摩擦推迟了超过38%的工人的收入反应。我们提出，企业劳动力需求的异质性在产生观察到的工人收入反应速度差异中起着关键作用，并提供了支持性证据。         06         行业结构、当地劳动力市场和贸易冲击的发生率         作者 |     Moises YiSteffen MuellerJens Stegmaier    摘要 |\\xa0          我们分析了技能转移性和当地产业结构如何影响受贸易冲击影响的工人的调整成本。利用德国的行政数据和新的经济距离衡量标准，我们构建了一个劳动力市场吸收率指数，该指数反映了特定行业的工人能够重新分配到其他工作岗位的程度。在制造业工人中，我们发现，对于那些生活在吸收能力最低地区的人来说，与进口敞口增加相关的收入损失要高得多。我们得出结论，地方产业结构在工人的调整过程中起着重要作用。         07         队列规模与婚姻市场：解释美国结婚率近一个世纪的变化         作者 |     Mary Ann BronsonMaurizio Mazzocco    摘要 |\\xa0          我们记录了美国婚姻市场有两个系统的经验模式。首先，队列规模的变化与女性结婚率之间存在着巨大、强烈和持久的负相关关系。其次，同样的负相关性也适用于男性。然后，我们建立一个模型应该具有的特征来生成这些模式。具有搜索摩擦的标准匹配模型被数据拒绝，因为它对女性产生了负面关系，但对男性产生了正面关系。我们推广了标准模型，以显示它在什么条件下使这两种模式合理化。    '"
      ]
     },
     "execution_count": 6,
     "metadata": {},
     "output_type": "execute_result"
    }
   ],
   "source": [
    "with open(files_ori[0], 'r') as f:\n",
    "    file_html = f.read()\n",
    "file_soup = BeautifulSoup(file_html, 'html.parser')\n",
    "file_soup.text"
   ]
  },
  {
   "cell_type": "code",
   "execution_count": 7,
   "metadata": {},
   "outputs": [],
   "source": [
    "j = 0\n",
    "for i in files:\n",
    "    with open(files_ori[j], 'r') as f:\n",
    "        file_html = f.read()\n",
    "        file_soup = BeautifulSoup(file_html, 'html.parser')\n",
    "    fe = fg.add_entry()\n",
    "    fe.id('https://www.econdiy.wiki/' + i + format(j, '04'))\n",
    "    fe.title(i)\n",
    "    fe.description('none')\n",
    "    fe.content(file_soup.text)\n",
    "    j += 1"
   ]
  },
  {
   "cell_type": "code",
   "execution_count": 8,
   "metadata": {},
   "outputs": [],
   "source": [
    "fg.rss_str(pretty=True)\n",
    "fg.rss_file('feed/index.xml')"
   ]
  },
  {
   "cell_type": "code",
   "execution_count": null,
   "metadata": {},
   "outputs": [],
   "source": []
  }
 ],
 "metadata": {
  "kernelspec": {
   "display_name": "Python 3",
   "language": "python",
   "name": "python3"
  },
  "language_info": {
   "codemirror_mode": {
    "name": "ipython",
    "version": 3
   },
   "file_extension": ".py",
   "mimetype": "text/x-python",
   "name": "python",
   "nbconvert_exporter": "python",
   "pygments_lexer": "ipython3",
   "version": "3.12.3"
  }
 },
 "nbformat": 4,
 "nbformat_minor": 2
}
