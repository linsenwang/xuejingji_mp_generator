{
 "cells": [
  {
   "cell_type": "code",
   "execution_count": 1,
   "metadata": {},
   "outputs": [],
   "source": [
    "from feedgen.feed import FeedGenerator\n",
    "from bs4 import BeautifulSoup"
   ]
  },
  {
   "cell_type": "code",
   "execution_count": 2,
   "metadata": {},
   "outputs": [],
   "source": [
    "with open('index.html', 'r') as f:\n",
    "    index_html = f.read()\n",
    "soup = BeautifulSoup(index_html, 'html.parser')"
   ]
  },
  {
   "cell_type": "code",
   "execution_count": 3,
   "metadata": {},
   "outputs": [],
   "source": [
    "href = soup.find_all('a')"
   ]
  },
  {
   "cell_type": "code",
   "execution_count": 4,
   "metadata": {},
   "outputs": [
    {
     "data": {
      "text/plain": [
       "'Description of your podcast'"
      ]
     },
     "execution_count": 4,
     "metadata": {},
     "output_type": "execute_result"
    }
   ],
   "source": [
    "fg = FeedGenerator()\n",
    "fg.link(href='https://www.econdiy.wiki/')\n",
    "fg.title('Some Testfeed')\n",
    "fg.description('Description of your podcast')"
   ]
  },
  {
   "cell_type": "code",
   "execution_count": 5,
   "metadata": {},
   "outputs": [
    {
     "data": {
      "text/plain": [
       "['jle/JLE_CN_Vol 42, No 3.html',\n",
       " 'jle/JLE_CN_Vol 42, No 3.html',\n",
       " 'jle/JLE_Vol 42, No 3.html',\n",
       " 'jpe/JPE_CN_issues_764.html',\n",
       " 'jpe/JPE_CN_issues_764.html',\n",
       " 'aer/AER_issues_764.html',\n",
       " 'jpe/JPE_CN_Volume 132, Number 6.html',\n",
       " 'jpe/JPE_Volume 132, Number 6.html',\n",
       " 'jpe/JPE_CN_Volume 132, Number 6.html',\n",
       " 'jpe/JPE_CN_Volume 132, Number 6.html',\n",
       " 'jpe/JPE_Volume 132, Number 6.html',\n",
       " 'rest/REST_issue_106_3.html',\n",
       " 'aer/AER_issues_764.html',\n",
       " 'jpe/JPE_Volume 132, Number 6.html',\n",
       " 'jpe/JPE_Volume 132, Number 6.html',\n",
       " 'aer/AER_issues_764.html',\n",
       " 'aer/AER_issues_764.html',\n",
       " 'ecma/ecma_Volume 92, Issue 3 (May 2024).html']"
      ]
     },
     "execution_count": 5,
     "metadata": {},
     "output_type": "execute_result"
    }
   ],
   "source": [
    "files = []\n",
    "for i in href:\n",
    "    files.append(i.get('href'))\n",
    "files"
   ]
  },
  {
   "cell_type": "code",
   "execution_count": 6,
   "metadata": {},
   "outputs": [],
   "source": [
    "j = 0\n",
    "for i in files:\n",
    "    fe = fg.add_entry()\n",
    "    fe.id('https://www.econdiy.wiki/' + i + str(j))\n",
    "    fe.title(i)\n",
    "    fe.description('none')\n",
    "    j += 1"
   ]
  },
  {
   "cell_type": "code",
   "execution_count": 7,
   "metadata": {},
   "outputs": [],
   "source": [
    "fg.rss_str(pretty=True)\n",
    "fg.rss_file('feed/index.xml')"
   ]
  },
  {
   "cell_type": "code",
   "execution_count": null,
   "metadata": {},
   "outputs": [],
   "source": []
  }
 ],
 "metadata": {
  "kernelspec": {
   "display_name": "Python 3",
   "language": "python",
   "name": "python3"
  },
  "language_info": {
   "codemirror_mode": {
    "name": "ipython",
    "version": 3
   },
   "file_extension": ".py",
   "mimetype": "text/x-python",
   "name": "python",
   "nbconvert_exporter": "python",
   "pygments_lexer": "ipython3",
   "version": "3.12.3"
  }
 },
 "nbformat": 4,
 "nbformat_minor": 2
}
