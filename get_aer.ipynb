{
 "cells": [
  {
   "cell_type": "code",
   "execution_count": 1,
   "metadata": {},
   "outputs": [],
   "source": [
    "import requests\n",
    "from bs4 import BeautifulSoup\n",
    "import re\n",
    "import time\n",
    "import gen_css\n",
    "import add_current\n",
    "import BaiduTrans"
   ]
  },
  {
   "cell_type": "code",
   "execution_count": 2,
   "metadata": {},
   "outputs": [],
   "source": [
    "aer = requests.get('https://www.aeaweb.org/journals/aer')"
   ]
  },
  {
   "cell_type": "code",
   "execution_count": 3,
   "metadata": {},
   "outputs": [],
   "source": [
    "aer_data = BeautifulSoup(aer.text, 'html.parser')"
   ]
  },
  {
   "cell_type": "code",
   "execution_count": 4,
   "metadata": {},
   "outputs": [
    {
     "data": {
      "text/plain": [
       "<a class=\"current-issue-link button highlight\" href=\"/issues/764\">Current Issue</a>"
      ]
     },
     "execution_count": 4,
     "metadata": {},
     "output_type": "execute_result"
    }
   ],
   "source": [
    "current_link = aer_data.find(class_=\"current-issue-link\")\n",
    "current_link"
   ]
  },
  {
   "cell_type": "code",
   "execution_count": 5,
   "metadata": {},
   "outputs": [
    {
     "data": {
      "text/plain": [
       "'https://www.aeaweb.org/issues/764'"
      ]
     },
     "execution_count": 5,
     "metadata": {},
     "output_type": "execute_result"
    }
   ],
   "source": [
    "current_url = 'https://www.aeaweb.org' + current_link.get('href')\n",
    "current_url"
   ]
  },
  {
   "cell_type": "code",
   "execution_count": 6,
   "metadata": {},
   "outputs": [
    {
     "data": {
      "text/plain": [
       "'issues_764'"
      ]
     },
     "execution_count": 6,
     "metadata": {},
     "output_type": "execute_result"
    }
   ],
   "source": [
    "issue = re.search('iss.+',current_url)[0]\n",
    "issue = re.sub(r\"/\", \"_\", issue)\n",
    "issue"
   ]
  },
  {
   "cell_type": "code",
   "execution_count": 7,
   "metadata": {},
   "outputs": [],
   "source": [
    "current_data = requests.get(current_url)"
   ]
  },
  {
   "cell_type": "code",
   "execution_count": 8,
   "metadata": {},
   "outputs": [],
   "source": [
    "data = BeautifulSoup(current_data.text, 'html.parser')"
   ]
  },
  {
   "cell_type": "code",
   "execution_count": 9,
   "metadata": {},
   "outputs": [],
   "source": [
    "articles = data.find_all(class_='journal-article')"
   ]
  },
  {
   "cell_type": "code",
   "execution_count": 10,
   "metadata": {},
   "outputs": [
    {
     "data": {
      "text/plain": [
       "'https://www.aeaweb.org/articles?id=10.1257/aer.20220425'"
      ]
     },
     "execution_count": 10,
     "metadata": {},
     "output_type": "execute_result"
    }
   ],
   "source": [
    "article_link = 'https://www.aeaweb.org' + articles[3].find('a').get('href')\n",
    "article_link"
   ]
  },
  {
   "cell_type": "code",
   "execution_count": 11,
   "metadata": {},
   "outputs": [],
   "source": [
    "article_requests = requests.get(article_link)"
   ]
  },
  {
   "cell_type": "code",
   "execution_count": 12,
   "metadata": {},
   "outputs": [],
   "source": [
    "article_data = BeautifulSoup(article_requests.text, 'html.parser')"
   ]
  },
  {
   "cell_type": "code",
   "execution_count": 13,
   "metadata": {},
   "outputs": [
    {
     "data": {
      "text/plain": [
       "'Local Economic and Political Effects of Trade Deals: Evidence from NAFTA'"
      ]
     },
     "execution_count": 13,
     "metadata": {},
     "output_type": "execute_result"
    }
   ],
   "source": [
    "article_data.find(class_='title').text"
   ]
  },
  {
   "cell_type": "code",
   "execution_count": 14,
   "metadata": {},
   "outputs": [
    {
     "data": {
      "text/plain": [
       "'\\n\\n         Jiwon Choi    \\n\\n         Ilyana Kuziemko    \\n\\n         Ebonya Washington    \\n\\n         Gavin Wright    \\n'"
      ]
     },
     "execution_count": 14,
     "metadata": {},
     "output_type": "execute_result"
    }
   ],
   "source": [
    "ori_name = article_data.find(class_='attribution').text\n",
    "ori_name"
   ]
  },
  {
   "cell_type": "code",
   "execution_count": 15,
   "metadata": {},
   "outputs": [
    {
     "data": {
      "text/plain": [
       "'Jiwon Choi, Ilyana Kuziemko, Ebonya Washington, Gavin Wright'"
      ]
     },
     "execution_count": 15,
     "metadata": {},
     "output_type": "execute_result"
    }
   ],
   "source": [
    "names = re.findall(r'\\b[A-Za-z]+(?:\\s[A-Za-z]+)+\\b', ori_name)\n",
    "name = ', '.join(names)\n",
    "name"
   ]
  },
  {
   "cell_type": "code",
   "execution_count": 16,
   "metadata": {},
   "outputs": [
    {
     "data": {
      "text/plain": [
       "'Why have white, less-educated voters left the Democratic Party? We highlight the role of the 1994 North American Free Trade Agreement (NAFTA). In event-study analysis, we demonstrate that counties whose 1990 employment depended on industries vulnerable to NAFTA suffered large and persistent employment losses after its implementation. Voters in these counties (and protectionist voters regardless of geography) turned away from the party of President Clinton, who promoted the agreement. This shift is larger for whites (especially men and those without a college degree) and social conservatives, suggesting that racial identity and social-issue positions mediate reactions to economic policies.'"
      ]
     },
     "execution_count": 16,
     "metadata": {},
     "output_type": "execute_result"
    }
   ],
   "source": [
    "ori_abstract = article_data.find(class_='abstract').text\n",
    "abstract = cleaned_text = re.sub(r\"Abstract|\\t|\\n\", \"\", ori_abstract)\n",
    "abstract"
   ]
  },
  {
   "cell_type": "code",
   "execution_count": 17,
   "metadata": {},
   "outputs": [
    {
     "data": {
      "text/plain": [
       "[('Front Matter',\n",
       "  '',\n",
       "  'Why have white, less-educated voters left the Democratic Party? We highlight the role of the 1994 North American Free Trade Agreement (NAFTA). In event-study analysis, we demonstrate that counties whose 1990 employment depended on industries vulnerable to NAFTA suffered large and persistent employment losses after its implementation. Voters in these counties (and protectionist voters regardless of geography) turned away from the party of President Clinton, who promoted the agreement. This shift is larger for whites (especially men and those without a college degree) and social conservatives, suggesting that racial identity and social-issue positions mediate reactions to economic policies.'),\n",
       " ('Nobel Lecture: An Evolving Economic Force',\n",
       "  'Claudia Goldin',\n",
       "  \"South Koreans appear to be preoccupied with their offspring's education and also have the lowest total fertility rate in the world. We propose a novel theory with status externalities and endogenous fertility connecting these facts, motivated by novel empirical evidence on private education spillovers. Using a quantitative model calibrated to Korea, we find that fertility would be 28 percent higher without the externality. We explore the effects of government policy: a pro-natal transfer or an education tax can increase fertility and reduce education spending. An education tax of 22 percent together with moderate pro-natal transfers maximizes the current generation's welfare.\"),\n",
       " ('Local Economic and Political Effects of Trade Deals: Evidence from NAFTA',\n",
       "  'Jiwon Choi, Ilyana Kuziemko, Ebonya Washington, Gavin Wright',\n",
       "  'We study robust welfare comparisons of learning biases (misspecified Bayesian and some forms of non-Bayesian updating). Given a true signal distribution, we deem one bias more harmful than another if it yields lower objective expected payoffs in all decision problems. We characterize this ranking in static and dynamic settings. While the static characterization compares posteriors signal by signal, the dynamic characterization employs an \"efficiency index\" measuring how fast beliefs converge. We quantify and compare the severity of several well-documented biases. We also highlight disagreements between the static and dynamic rankings, and that some \"large\" biases dynamically outperform other \"vanishingly small\" biases.'),\n",
       " ('Status Externalities in Education and Low Birth Rates in Korea',\n",
       "  'Seongeun Kim, Minchul Yum',\n",
       "  'We study a business cycle model of the international monetary system featuring a time varying demand for safe dollar bonds, greater risk-bearing capacity in the United States than the rest of the world, and nominal rigidities. A flight to safety generates a dollar appreciation and decline in global output. Dollar bonds thus command a negative risk premium, and the United States holds a levered portfolio of capital finances in dollars. We quantify the effects of safety shocks and heterogeneity in risk-bearing capacity for global macroeconomic volatility, US external adjustment, and policy transmission, as of dollar swap lines.'),\n",
       " ('Welfare Comparisons for Biased Learning',\n",
       "  'Mira Frick, Ryota Iijima, Yuhta Ishii',\n",
       "  'This paper identifies the impact of increasing post-childbirth work incentives on mothers\\' long-run careers. We exploit variation in work incentives across mothers based on the timing of a first birth and eligibility for the 1993 expansion of the Earned Income Tax Credit. Ten to nineteen years after a first birth, single mothers who were exposed to the expansion immediately after birth (\"early\"), rather than 3–6 years later (\"late\"), have 0.62 more years of work experience and 4.2 percent higher earnings conditional on working. We show that higher earnings are primarily explained by improved wages due to greater work experience.'),\n",
       " ('The Flight to Safety and International Risk Sharing',\n",
       "  'Rohan Kekre, Moritz Lenel',\n",
       "  'We develop a task-based model of occupational sorting to identify and quantify the effect of discrimination, racial skill gaps, and aggregate task prices on Black-White differences in labor market outcomes over time. At the heart of our framework is the idea that the size and nature of racial barriers faced by Black workers vary by the task requirements of each job. We define a new task that measures the extent to which individuals interact with others as part of their job. We show that this measure is a good proxy for the extent of discrimination in the economy.'),\n",
       " ('Long-Run Effects of Incentivizing Work after Childbirth',\n",
       "  'Elira Kuka, ama Shenhav',\n",
       "  'What are the implications of the dramatic fall in IT prices for aggregate technology? When firm-level technologies are continuously differentiable, a factor price shock leads to (i) a substitution between factors and/or (ii) an endogenous response of returns to scale. The second channel is governed by the output elasticity of relative factor demand. Using detailed firm-level data from France, we estimate this elasticity to be positive for IT factor demand. A quantitative exercise accounting for both technological channels shows that falling IT prices can explain much of the changes in concentration and the composition of aggregate labor share in France.'),\n",
       " ('Task-Based Discrimination',\n",
       "  'Erik Hurst, Yona Rubinstein, Kazuatsu Shimizu',\n",
       "  \"I investigate men's limited entry into female-dominated sectors through a large-scale field experiment. The design exogenously varies recruitment messages by showing photographs of current workers (male or female) and providing information on the share of workers who received high evaluations in the past (higher or lower). A male photograph has no impact on men's applications, but informing about a lower share of high evaluations encourages men to apply and enables the employer to hire and retain more talented men. The impact of this informational intervention remains positive for the employer also accounting for its effects on female applicants and hires.\"),\n",
       " ('Information Technology and Returns to Scale',\n",
       "  'Danial Lashkari, Arthur Bauer, Jocelyn Boussard',\n",
       "  'We assess the employment and income effects of access to credit dedicated to investment in individual mobility by exploiting time-series variation in access to credit through lotteries for participants in a group-lending mechanism in Brazil. We find that access to credit for investment in individual mobility increases formal employment rates and salaries, yielding an annual rate of return of 12 to 15 percent. Consistent with a geographically broader job search, individuals transition to jobs farther from home and public transportation. Our results suggest that accessing distant labor markets through credit for investment in individual mobility yields high and persistent returns.')]"
      ]
     },
     "execution_count": 17,
     "metadata": {},
     "output_type": "execute_result"
    }
   ],
   "source": [
    "title = []\n",
    "name = []\n",
    "abstracts = []\n",
    "for art_link in articles:\n",
    "    try:\n",
    "        art_link = 'https://www.aeaweb.org' + art_link.find('a').get('href')\n",
    "        article_requests = requests.get(art_link)\n",
    "        article_data = BeautifulSoup(article_requests.text, 'html.parser')\n",
    "        title.append(article_data.find(class_='title').text)\n",
    "        ori_name = article_data.find(class_='attribution').text\n",
    "        re_name = re.findall(r'\\b[A-Za-z]+(?:\\s[A-Za-z]+)+\\b', ori_name)\n",
    "        names = ', '.join(re_name)\n",
    "        name.append(names)\n",
    "        ori_abstract = article_data.find(class_='abstract').text\n",
    "        abstract = cleaned_text = re.sub(r\"Abstract|\\t|\\n\", \"\", ori_abstract)\n",
    "        abstracts.append(abstract)\n",
    "    except:\n",
    "        pass\n",
    "article = [*zip(title, name, abstracts)]\n",
    "article"
   ]
  },
  {
   "cell_type": "code",
   "execution_count": 18,
   "metadata": {},
   "outputs": [],
   "source": [
    "with open('aer/AER_' + issue + '.html','w',encoding='UTF-8') as f:\n",
    "    f.write(gen_css.gen_content_from_list(title))\n",
    "    f.write(gen_css.gen_abstract_list(list(article)))"
   ]
  },
  {
   "cell_type": "code",
   "execution_count": 19,
   "metadata": {},
   "outputs": [],
   "source": [
    "add_current.add('AER_' + issue, time.ctime(), 'aer/AER_' + issue + '.html')"
   ]
  },
  {
   "cell_type": "code",
   "execution_count": 21,
   "metadata": {},
   "outputs": [
    {
     "ename": "KeyboardInterrupt",
     "evalue": "",
     "output_type": "error",
     "traceback": [
      "\u001b[0;31m---------------------------------------------------------------------------\u001b[0m",
      "\u001b[0;31mKeyboardInterrupt\u001b[0m                         Traceback (most recent call last)",
      "Cell \u001b[0;32mIn[21], line 1\u001b[0m\n\u001b[0;32m----> 1\u001b[0m abstract_cn \u001b[38;5;241m=\u001b[39m \u001b[43mBaiduTrans\u001b[49m\u001b[38;5;241;43m.\u001b[39;49m\u001b[43mtrans_list\u001b[49m\u001b[43m(\u001b[49m\u001b[43mabstracts\u001b[49m\u001b[43m)\u001b[49m\n\u001b[1;32m      2\u001b[0m title_cn \u001b[38;5;241m=\u001b[39m BaiduTrans\u001b[38;5;241m.\u001b[39mtrans_list(title)\n\u001b[1;32m      3\u001b[0m article_cn \u001b[38;5;241m=\u001b[39m [\u001b[38;5;241m*\u001b[39m\u001b[38;5;28mzip\u001b[39m(title_cn, names, abstract_cn)]\n",
      "File \u001b[0;32m~/Library/CloudStorage/OneDrive-Personal/033_git/xuejingji_mp_generator copy/BaiduTrans.py:49\u001b[0m, in \u001b[0;36mtrans_list\u001b[0;34m(list)\u001b[0m\n\u001b[1;32m     47\u001b[0m list_cn \u001b[38;5;241m=\u001b[39m []\n\u001b[1;32m     48\u001b[0m \u001b[38;5;28;01mfor\u001b[39;00m i \u001b[38;5;129;01min\u001b[39;00m \u001b[38;5;28mlist\u001b[39m:\n\u001b[0;32m---> 49\u001b[0m     te \u001b[38;5;241m=\u001b[39m \u001b[43mtrans\u001b[49m\u001b[43m(\u001b[49m\u001b[43mi\u001b[49m\u001b[43m)\u001b[49m\n\u001b[1;32m     50\u001b[0m     list_cn\u001b[38;5;241m.\u001b[39mappend(te[\u001b[38;5;124m'\u001b[39m\u001b[38;5;124mtrans_result\u001b[39m\u001b[38;5;124m'\u001b[39m][\u001b[38;5;241m0\u001b[39m][\u001b[38;5;124m'\u001b[39m\u001b[38;5;124mdst\u001b[39m\u001b[38;5;124m'\u001b[39m])\n\u001b[1;32m     51\u001b[0m     \u001b[38;5;66;03m#l_cn.append(te)\u001b[39;00m\n",
      "File \u001b[0;32m~/Library/CloudStorage/OneDrive-Personal/033_git/xuejingji_mp_generator copy/BaiduTrans.py:34\u001b[0m, in \u001b[0;36mtrans\u001b[0;34m(query)\u001b[0m\n\u001b[1;32m     31\u001b[0m httpClient\u001b[38;5;241m.\u001b[39mrequest(\u001b[38;5;124m'\u001b[39m\u001b[38;5;124mGET\u001b[39m\u001b[38;5;124m'\u001b[39m, myurl)\n\u001b[1;32m     33\u001b[0m \u001b[38;5;66;03m# response是HTTPResponse对象\u001b[39;00m\n\u001b[0;32m---> 34\u001b[0m response \u001b[38;5;241m=\u001b[39m \u001b[43mhttpClient\u001b[49m\u001b[38;5;241;43m.\u001b[39;49m\u001b[43mgetresponse\u001b[49m\u001b[43m(\u001b[49m\u001b[43m)\u001b[49m\n\u001b[1;32m     35\u001b[0m result_all \u001b[38;5;241m=\u001b[39m response\u001b[38;5;241m.\u001b[39mread()\u001b[38;5;241m.\u001b[39mdecode(\u001b[38;5;124m\"\u001b[39m\u001b[38;5;124mutf-8\u001b[39m\u001b[38;5;124m\"\u001b[39m)\n\u001b[1;32m     36\u001b[0m result \u001b[38;5;241m=\u001b[39m json\u001b[38;5;241m.\u001b[39mloads(result_all)\n",
      "File \u001b[0;32m/Library/Frameworks/Python.framework/Versions/3.12/lib/python3.12/http/client.py:1428\u001b[0m, in \u001b[0;36mHTTPConnection.getresponse\u001b[0;34m(self)\u001b[0m\n\u001b[1;32m   1426\u001b[0m \u001b[38;5;28;01mtry\u001b[39;00m:\n\u001b[1;32m   1427\u001b[0m     \u001b[38;5;28;01mtry\u001b[39;00m:\n\u001b[0;32m-> 1428\u001b[0m         \u001b[43mresponse\u001b[49m\u001b[38;5;241;43m.\u001b[39;49m\u001b[43mbegin\u001b[49m\u001b[43m(\u001b[49m\u001b[43m)\u001b[49m\n\u001b[1;32m   1429\u001b[0m     \u001b[38;5;28;01mexcept\u001b[39;00m \u001b[38;5;167;01mConnectionError\u001b[39;00m:\n\u001b[1;32m   1430\u001b[0m         \u001b[38;5;28mself\u001b[39m\u001b[38;5;241m.\u001b[39mclose()\n",
      "File \u001b[0;32m/Library/Frameworks/Python.framework/Versions/3.12/lib/python3.12/http/client.py:331\u001b[0m, in \u001b[0;36mHTTPResponse.begin\u001b[0;34m(self)\u001b[0m\n\u001b[1;32m    329\u001b[0m \u001b[38;5;66;03m# read until we get a non-100 response\u001b[39;00m\n\u001b[1;32m    330\u001b[0m \u001b[38;5;28;01mwhile\u001b[39;00m \u001b[38;5;28;01mTrue\u001b[39;00m:\n\u001b[0;32m--> 331\u001b[0m     version, status, reason \u001b[38;5;241m=\u001b[39m \u001b[38;5;28;43mself\u001b[39;49m\u001b[38;5;241;43m.\u001b[39;49m\u001b[43m_read_status\u001b[49m\u001b[43m(\u001b[49m\u001b[43m)\u001b[49m\n\u001b[1;32m    332\u001b[0m     \u001b[38;5;28;01mif\u001b[39;00m status \u001b[38;5;241m!=\u001b[39m CONTINUE:\n\u001b[1;32m    333\u001b[0m         \u001b[38;5;28;01mbreak\u001b[39;00m\n",
      "File \u001b[0;32m/Library/Frameworks/Python.framework/Versions/3.12/lib/python3.12/http/client.py:292\u001b[0m, in \u001b[0;36mHTTPResponse._read_status\u001b[0;34m(self)\u001b[0m\n\u001b[1;32m    291\u001b[0m \u001b[38;5;28;01mdef\u001b[39;00m \u001b[38;5;21m_read_status\u001b[39m(\u001b[38;5;28mself\u001b[39m):\n\u001b[0;32m--> 292\u001b[0m     line \u001b[38;5;241m=\u001b[39m \u001b[38;5;28mstr\u001b[39m(\u001b[38;5;28;43mself\u001b[39;49m\u001b[38;5;241;43m.\u001b[39;49m\u001b[43mfp\u001b[49m\u001b[38;5;241;43m.\u001b[39;49m\u001b[43mreadline\u001b[49m\u001b[43m(\u001b[49m\u001b[43m_MAXLINE\u001b[49m\u001b[43m \u001b[49m\u001b[38;5;241;43m+\u001b[39;49m\u001b[43m \u001b[49m\u001b[38;5;241;43m1\u001b[39;49m\u001b[43m)\u001b[49m, \u001b[38;5;124m\"\u001b[39m\u001b[38;5;124miso-8859-1\u001b[39m\u001b[38;5;124m\"\u001b[39m)\n\u001b[1;32m    293\u001b[0m     \u001b[38;5;28;01mif\u001b[39;00m \u001b[38;5;28mlen\u001b[39m(line) \u001b[38;5;241m>\u001b[39m _MAXLINE:\n\u001b[1;32m    294\u001b[0m         \u001b[38;5;28;01mraise\u001b[39;00m LineTooLong(\u001b[38;5;124m\"\u001b[39m\u001b[38;5;124mstatus line\u001b[39m\u001b[38;5;124m\"\u001b[39m)\n",
      "File \u001b[0;32m/Library/Frameworks/Python.framework/Versions/3.12/lib/python3.12/socket.py:707\u001b[0m, in \u001b[0;36mSocketIO.readinto\u001b[0;34m(self, b)\u001b[0m\n\u001b[1;32m    705\u001b[0m \u001b[38;5;28;01mwhile\u001b[39;00m \u001b[38;5;28;01mTrue\u001b[39;00m:\n\u001b[1;32m    706\u001b[0m     \u001b[38;5;28;01mtry\u001b[39;00m:\n\u001b[0;32m--> 707\u001b[0m         \u001b[38;5;28;01mreturn\u001b[39;00m \u001b[38;5;28;43mself\u001b[39;49m\u001b[38;5;241;43m.\u001b[39;49m\u001b[43m_sock\u001b[49m\u001b[38;5;241;43m.\u001b[39;49m\u001b[43mrecv_into\u001b[49m\u001b[43m(\u001b[49m\u001b[43mb\u001b[49m\u001b[43m)\u001b[49m\n\u001b[1;32m    708\u001b[0m     \u001b[38;5;28;01mexcept\u001b[39;00m timeout:\n\u001b[1;32m    709\u001b[0m         \u001b[38;5;28mself\u001b[39m\u001b[38;5;241m.\u001b[39m_timeout_occurred \u001b[38;5;241m=\u001b[39m \u001b[38;5;28;01mTrue\u001b[39;00m\n",
      "\u001b[0;31mKeyboardInterrupt\u001b[0m: "
     ]
    }
   ],
   "source": [
    "abstract_cn = BaiduTrans.trans_list(abstracts)\n",
    "title_cn = BaiduTrans.trans_list(title)\n",
    "article_cn = [*zip(title_cn, names, abstract_cn)]\n",
    "with open('jpe/JPE_CN_' + issue + '.html','w',encoding='UTF-8') as f:\n",
    "    f.write(gen_css.gen_content_from_list(title_cn))\n",
    "    f.write(gen_css.gen_abstract_list(list(article_cn)))\n",
    "add_current.add('JPE_CN_' + issue, time.ctime(), 'jpe/JPE_CN_' + issue + '.html')"
   ]
  },
  {
   "cell_type": "code",
   "execution_count": 24,
   "metadata": {},
   "outputs": [
    {
     "ename": "KeyboardInterrupt",
     "evalue": "",
     "output_type": "error",
     "traceback": [
      "\u001b[0;31m---------------------------------------------------------------------------\u001b[0m",
      "\u001b[0;31mKeyboardInterrupt\u001b[0m                         Traceback (most recent call last)",
      "Cell \u001b[0;32mIn[24], line 1\u001b[0m\n\u001b[0;32m----> 1\u001b[0m title_cn \u001b[38;5;241m=\u001b[39m \u001b[43mBaiduTrans\u001b[49m\u001b[38;5;241;43m.\u001b[39;49m\u001b[43mtrans_list\u001b[49m\u001b[43m(\u001b[49m\u001b[43mtitle\u001b[49m\u001b[43m)\u001b[49m\n\u001b[1;32m      2\u001b[0m title_cn \u001b[38;5;241m=\u001b[39m title_cn[\u001b[38;5;241m1\u001b[39m:]\n",
      "File \u001b[0;32m~/Library/CloudStorage/OneDrive-Personal/033_git/xuejingji_mp_generator copy/BaiduTrans.py:52\u001b[0m, in \u001b[0;36mtrans_list\u001b[0;34m(list)\u001b[0m\n\u001b[1;32m     50\u001b[0m     list_cn\u001b[38;5;241m.\u001b[39mappend(te[\u001b[38;5;124m'\u001b[39m\u001b[38;5;124mtrans_result\u001b[39m\u001b[38;5;124m'\u001b[39m][\u001b[38;5;241m0\u001b[39m][\u001b[38;5;124m'\u001b[39m\u001b[38;5;124mdst\u001b[39m\u001b[38;5;124m'\u001b[39m])\n\u001b[1;32m     51\u001b[0m     \u001b[38;5;66;03m#l_cn.append(te)\u001b[39;00m\n\u001b[0;32m---> 52\u001b[0m     \u001b[43mtime\u001b[49m\u001b[38;5;241;43m.\u001b[39;49m\u001b[43msleep\u001b[49m\u001b[43m(\u001b[49m\u001b[38;5;241;43m1\u001b[39;49m\u001b[43m)\u001b[49m\n\u001b[1;32m     53\u001b[0m \u001b[38;5;28;01mreturn\u001b[39;00m list_cn\n",
      "\u001b[0;31mKeyboardInterrupt\u001b[0m: "
     ]
    }
   ],
   "source": [
    "title_cn = BaiduTrans.trans_list(title)\n",
    "title_cn = title_cn[1:]"
   ]
  },
  {
   "cell_type": "code",
   "execution_count": 23,
   "metadata": {},
   "outputs": [
    {
     "data": {
      "text/plain": [
       "['为什么受教育程度较低的白人选民离开了民主党？我们强调1994年《北美自由贸易协定》的作用。在事件研究分析中，我们证明，1990年就业依赖于易受北美自由贸易协定影响的行业的县在实施后遭受了巨大而持续的就业损失。这些县的选民（以及不分地理位置的保护主义选民）拒绝了推动该协议的克林顿总统的政党。这种转变对白人（尤其是男性和没有大学学历的人）和社会保守派来说更大，这表明种族认同和社会问题立场会调节对经济政策的反应。',\n",
       " '韩国人似乎专注于子女的教育，而且总生育率也是世界上最低的。我们提出了一个新的理论，将这些事实与地位外部性和内生生育率联系起来，其动机是关于私立教育溢出的新的经验证据。使用一个针对韩国的定量模型，我们发现如果没有外部性，生育率将高出28%。我们探讨了政府政策的影响：产前转移或教育税可以提高生育率并减少教育支出。22%的教育税加上适度的产前转移，最大限度地提高了这一代人的福利。',\n",
       " '我们研究了学习偏差的稳健福利比较（指定错误的贝叶斯和某些形式的非贝叶斯更新）。给定真实的信号分布，如果在所有决策问题中产生较低的客观预期收益，我们认为一种偏差比另一种更有害。我们在静态和动态设置中描述这种排名。当静态表征逐个信号比较后验信号时，动态表征采用了一个“效率指数”来衡量信念收敛的速度。我们量化并比较了几个有充分记录的偏差的严重程度。我们还强调了静态和动态排名之间的差异，以及一些“大”的偏见在动态上胜过其他“微不足道”的偏见。',\n",
       " '我们研究了一个国际货币体系的商业周期模型，其特征是对安全美元债券的需求随时间变化，美国的风险承受能力高于世界其他地区，以及名义刚性。向安全地带的逃亡导致美元升值，全球产出下降。因此，美元债券的风险溢价为负，美国持有以美元为单位的杠杆资本金融投资组合。我们量化了安全冲击和风险承受能力异质性对全球宏观经济波动、美国外部调整和政策传导的影响，如美元互换额度。',\n",
       " '本文确定了增加产后工作激励对母亲长期职业生涯的影响。我们根据初产的时间和1993年扩大劳动所得税抵免的资格，利用了母亲之间工作激励的差异。第一次分娩后10至19年，出生后立即（“早期”）而不是3-6年后（“晚期”）暴露于扩张的单身母亲，有0.62年的工作经验，以工作为条件的收入高4.2%。我们发现，收入的增加主要是由于工作经验的增加而导致工资的提高。',\n",
       " '我们开发了一个基于任务的职业分类模型，以确定和量化歧视、种族技能差距和总任务价格对劳动力市场结果随时间变化的黑人-白人差异的影响。我们框架的核心是黑人工人面临的种族障碍的大小和性质因每项工作的任务要求而异。我们定义了一项新任务，衡量个人在工作中与他人互动的程度。我们表明，这项措施很好地反映了经济中歧视的程度。',\n",
       " 'IT价格的大幅下跌对聚合技术有什么影响？当企业层面的技术持续可微分时，要素价格冲击会导致（i）要素之间的替代和/或（ii）规模回报的内生反应。第二个渠道由相对要素需求的产出弹性决定。利用法国公司层面的详细数据，我们估计这种弹性对IT要素需求是正的。对这两种技术渠道的定量分析表明，IT价格的下跌可以解释法国劳动力集中度和总份额构成的大部分变化。',\n",
       " '我通过一项大规模的实地实验，调查了男性有限地进入女性主导的行业。该设计通过展示当前工人（男性或女性）的照片和提供过去获得高评价（较高或较低）的工人比例的信息，从外部改变了招聘信息。男性照片对男性的申请没有影响，但告知较高评价的比例较低会鼓励男性申请，并使雇主能够雇佣和留住更多有才华的男性。这种信息干预对雇主的影响仍然是积极的，也说明了它对女性申请人和雇员的影响。',\n",
       " '我们通过利用巴西团体贷款机制参与者通过彩票获得信贷的时间序列变化，评估了专门用于个人流动性投资的信贷对就业和收入的影响。我们发现，获得信贷用于个人流动性投资会提高正式就业率和工资，年回报率为12%至15%。与地理范围更广的求职相一致，个人会过渡到离家和公共交通更远的工作。我们的研究结果表明，通过个人流动性投资信贷进入遥远的劳动力市场会产生高而持久的回报。']"
      ]
     },
     "execution_count": 23,
     "metadata": {},
     "output_type": "execute_result"
    }
   ],
   "source": [
    "abstract_cn = BaiduTrans.trans_list(abstracts)\n",
    "abstract_cn"
   ]
  },
  {
   "cell_type": "code",
   "execution_count": 25,
   "metadata": {},
   "outputs": [],
   "source": [
    "title_cn = title_cn[1:]"
   ]
  },
  {
   "cell_type": "code",
   "execution_count": 26,
   "metadata": {},
   "outputs": [
    {
     "data": {
      "text/plain": [
       "['诺贝尔演讲：一股不断发展的经济力量',\n",
       " '贸易协议对地方经济和政治的影响：来自北美自由贸易协定的证据',\n",
       " '韩国教育的地位外部性与低出生率',\n",
       " '有偏见学习的福利比较',\n",
       " '安全飞行与国际风险分担',\n",
       " '生育后工作激励的长期效应',\n",
       " '基于任务的歧视',\n",
       " '信息技术与规模回报',\n",
       " '打破性别障碍：对从事粉领工作的男性的实验证据',\n",
       " '金融准入和劳动力市场结果：来自信用彩票的证据']"
      ]
     },
     "execution_count": 26,
     "metadata": {},
     "output_type": "execute_result"
    }
   ],
   "source": [
    "title_cn"
   ]
  },
  {
   "cell_type": "code",
   "execution_count": 29,
   "metadata": {},
   "outputs": [],
   "source": [
    "article_cn = [*zip(title_cn, name, abstract_cn)]\n",
    "with open('jpe/JPE_CN_' + issue + '.html','w',encoding='UTF-8') as f:\n",
    "    f.write(gen_css.gen_content_from_list(title_cn))\n",
    "    f.write(gen_css.gen_abstract_list(list(article_cn)))\n",
    "add_current.add('JPE_CN_' + issue, time.ctime(), 'jpe/JPE_CN_' + issue + '.html')"
   ]
  },
  {
   "cell_type": "code",
   "execution_count": null,
   "metadata": {},
   "outputs": [],
   "source": []
  }
 ],
 "metadata": {
  "kernelspec": {
   "display_name": "Python 3",
   "language": "python",
   "name": "python3"
  },
  "language_info": {
   "codemirror_mode": {
    "name": "ipython",
    "version": 3
   },
   "file_extension": ".py",
   "mimetype": "text/x-python",
   "name": "python",
   "nbconvert_exporter": "python",
   "pygments_lexer": "ipython3",
   "version": "3.12.3"
  }
 },
 "nbformat": 4,
 "nbformat_minor": 2
}
